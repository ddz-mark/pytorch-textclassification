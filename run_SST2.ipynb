{
 "cells": [
  {
   "cell_type": "markdown",
   "metadata": {},
   "source": [
    "# 导库"
   ]
  },
  {
   "cell_type": "code",
   "execution_count": 1,
   "metadata": {
    "collapsed": true
   },
   "outputs": [],
   "source": [
    "import torch\n",
    "import torch.optim as optim\n",
    "import torch.nn as nn\n",
    "import torch.nn.functional as F\n",
    "\n",
    "from torchtext import data\n",
    "from torchtext import datasets\n",
    "from torchtext import vocab\n",
    "\n",
    "from tqdm import tqdm\n",
    "\n",
    "import pandas as pd\n",
    "import numpy as np\n",
    "import random\n",
    "\n",
    "import os\n",
    "\n",
    "from sklearn.metrics import roc_auc_score\n",
    "\n",
    "# 导入自己的库\n",
    "from Util.utils import get_device, seed_everything\n",
    "from Util.SST2_data import load_sst2\n",
    "from ModelHandler import *\n"
   ]
  },
  {
   "cell_type": "code",
   "execution_count": 2,
   "metadata": {},
   "outputs": [
    {
     "name": "stdout",
     "output_type": "stream",
     "text": [
      "device is cpu, not recommend\n",
      "cpu 0\n"
     ]
    }
   ],
   "source": [
    "device, n_gpu=get_device()\n",
    "print(device, n_gpu)\n"
   ]
  },
  {
   "cell_type": "code",
   "execution_count": 3,
   "metadata": {},
   "outputs": [
    {
     "data": {
      "text/plain": [
       "3"
      ]
     },
     "execution_count": 3,
     "metadata": {},
     "output_type": "execute_result"
    }
   ],
   "source": [
    "\n",
    "seed_everything()\n",
    "random.randint(1,10)"
   ]
  },
  {
   "cell_type": "markdown",
   "metadata": {},
   "source": [
    "# 加载 SST2 数据"
   ]
  },
  {
   "cell_type": "code",
   "execution_count": 4,
   "metadata": {
    "collapsed": true
   },
   "outputs": [],
   "source": [
    "# SST2 数据准备\n",
    "\n",
    "text_field = data.Field(tokenize='spacy', lower=True, include_lengths=True,fix_length=40, batch_first=True)\n",
    "label_field = data.LabelField(dtype=torch.long)"
   ]
  },
  {
   "cell_type": "code",
   "execution_count": 5,
   "metadata": {},
   "outputs": [
    {
     "name": "stdout",
     "output_type": "stream",
     "text": [
      "(67349, 2)\n",
      "(872, 2)\n",
      "(1821, 2)\n"
     ]
    }
   ],
   "source": [
    "BASE_PATH = \"sst2_data/\"\n",
    "train_pd = pd.read_csv(BASE_PATH+'train.tsv', sep='\\t')\n",
    "dev_pd = pd.read_csv(BASE_PATH + 'dev.tsv', sep='\\t')\n",
    "test_pd = pd.read_csv(BASE_PATH + 'test.tsv', sep='\\t')\n",
    "\n",
    "print(train_pd.shape)\n",
    "print(dev_pd.shape)\n",
    "print(test_pd.shape)"
   ]
  },
  {
   "cell_type": "code",
   "execution_count": 6,
   "metadata": {},
   "outputs": [
    {
     "name": "stdout",
     "output_type": "stream",
     "text": [
      "the size of train: 67349, dev:872, test:1821\n",
      "the result of dataset:  ['hide', 'new', 'secretions', 'from', 'the', 'parental', 'units'] 0\n",
      "the size of train_iter: 527, dev_iter:7, test_iter:1\n"
     ]
    }
   ],
   "source": [
    "batch_size = 128\n",
    "train_iter, dev_iter, test_iter = load_sst2(BASE_PATH, text_field, label_field, batch_size, device)\n"
   ]
  },
  {
   "cell_type": "code",
   "execution_count": 7,
   "metadata": {},
   "outputs": [
    {
     "name": "stdout",
     "output_type": "stream",
     "text": [
      "0 torch.Size([128, 40]) torch.Size([128])\n",
      "(tensor([[  32,   30, 3736,  ...,    1,    1,    1],\n",
      "        [  29,  437,    9,  ...,    1,    1,    1],\n",
      "        [   8, 1999,  215,  ...,    1,    1,    1],\n",
      "        ...,\n",
      "        [   2,   21,   10,  ...,    1,    1,    1],\n",
      "        [  11,   28,   15,  ...,    1,    1,    1],\n",
      "        [  92,   64, 8054,  ...,    1,    1,    1]]), tensor([7, 7, 7, 7, 7, 7, 7, 7, 7, 7, 7, 7, 7, 7, 7, 7, 7, 7, 7, 7, 7, 7, 7, 7,\n",
      "        7, 7, 7, 7, 7, 7, 7, 7, 7, 7, 7, 7, 7, 7, 7, 7, 7, 7, 7, 7, 7, 7, 7, 7,\n",
      "        7, 7, 7, 7, 7, 7, 7, 7, 7, 7, 7, 7, 7, 7, 7, 7, 7, 7, 7, 7, 7, 7, 7, 7,\n",
      "        7, 7, 7, 7, 7, 7, 7, 7, 7, 7, 7, 7, 7, 7, 7, 7, 7, 7, 7, 7, 7, 7, 7, 7,\n",
      "        7, 7, 7, 7, 7, 7, 7, 7, 7, 7, 7, 7, 7, 7, 7, 7, 7, 7, 7, 7, 7, 7, 7, 7,\n",
      "        7, 7, 7, 7, 7, 7, 7, 7]))\n"
     ]
    }
   ],
   "source": [
    "# 查看数据\n",
    "\n",
    "for batch_idx, (X_train_var, y_train_var) in enumerate(train_iter):\n",
    "    print(batch_idx, X_train_var[0].shape, y_train_var.shape)\n",
    "    print(X_train_var)\n",
    "    break"
   ]
  },
  {
   "cell_type": "markdown",
   "metadata": {},
   "source": [
    "# 网络结构"
   ]
  },
  {
   "cell_type": "code",
   "execution_count": 8,
   "metadata": {
    "collapsed": true
   },
   "outputs": [],
   "source": [
    "# 1.与维度变换相关函数 view()，permute()，size(), torch.squeeze() / torch.unsqueeze()\n",
    "# 2.Embedding层加载预训练模型的方式：1）copy，2）from_pretrained。\n",
    "\n",
    "class Enet(nn.Module):\n",
    "    def __init__(self,pretrained_embeddings):\n",
    "        super(Enet, self).__init__()\n",
    "#         self.embedding = nn.Embedding(len_vocab,100)\n",
    "        self.embedding = nn.Embedding.from_pretrained(\n",
    "            pretrained_embeddings, freeze=False)\n",
    "        # LSTM 参数以及输入输出说明：\n",
    "        # 结构参数：LSTM(input_size, hidden_size, num_layers)\n",
    "        # input_size:输入的特征数量\n",
    "        # hidden_size:隐藏的特征数量\n",
    "        # num_layers:层数\n",
    "        self.lstm = nn.LSTM(100,64,3,batch_first=True)#,bidirectional=True)\n",
    "        self.linear = nn.Linear(64,2)\n",
    "        \n",
    "    def forward(self, x):\n",
    "        batch_size,seq_num = x.shape\n",
    "#         print(x.shape) #(batch_size 128, sent_len 40)\n",
    "        vec = self.embedding(x)\n",
    "#         print(vec.shape) #(batch_size 128,sent_len 40,emb_dim 100)\n",
    "        out, (hn, cn) = self.lstm(vec)\n",
    "#         print(out.shape) #(batch_size 128,sent_len 40,64)\n",
    "        out = self.linear(out[:,-1,:])\n",
    "#         print(out.shape) #(batch_size 128,2)\n",
    "        out = F.softmax(out,-1)\n",
    "        return out\n",
    "    "
   ]
  },
  {
   "cell_type": "markdown",
   "metadata": {},
   "source": [
    "## TextCNN 模型"
   ]
  },
  {
   "cell_type": "code",
   "execution_count": 9,
   "metadata": {
    "collapsed": true
   },
   "outputs": [],
   "source": [
    "from model.TextCNN import TextCNN\n"
   ]
  },
  {
   "cell_type": "code",
   "execution_count": 10,
   "metadata": {
    "collapsed": true
   },
   "outputs": [],
   "source": [
    "# 模型单独测试\n",
    "pretrained_embeddings = text_field.vocab.vectors\n",
    "textCNN = TextCNN(100,100,[3,4,5],2,pretrained_embeddings)\n",
    "for i in train_iter:\n",
    "    textCNN.forward(i.text)\n",
    "    break\n",
    "\n"
   ]
  },
  {
   "cell_type": "markdown",
   "metadata": {},
   "source": [
    "## TextRNN 模型"
   ]
  },
  {
   "cell_type": "code",
   "execution_count": 11,
   "metadata": {
    "collapsed": true
   },
   "outputs": [],
   "source": [
    "from model.TextRNN import TextRNN\n"
   ]
  },
  {
   "cell_type": "code",
   "execution_count": 12,
   "metadata": {},
   "outputs": [
    {
     "name": "stdout",
     "output_type": "stream",
     "text": [
      "torch.Size([2, 128, 100])\n",
      "torch.Size([128, 100])\n",
      "torch.Size([128, 2])\n"
     ]
    }
   ],
   "source": [
    "# 模型单独测试\n",
    "pretrained_embeddings = text_field.vocab.vectors\n",
    "embedding_dim = 100\n",
    "output_dim = 2\n",
    "hidden_size = 50\n",
    "num_layers=5\n",
    "bidirectional = True\n",
    "model = TextRNN(embedding_dim,output_dim,hidden_size,num_layers,bidirectional,pretrained_embeddings)\n",
    "for i in train_iter:\n",
    "#     print(i.text, i.text.shape)\n",
    "    model.forward(i.text)\n",
    "    break\n"
   ]
  },
  {
   "cell_type": "markdown",
   "metadata": {},
   "source": [
    "## TextRNN_Attention 模型"
   ]
  },
  {
   "cell_type": "code",
   "execution_count": 13,
   "metadata": {},
   "outputs": [],
   "source": [
    "from model.TextRNN_Attention import TextRNN_Attention"
   ]
  },
  {
   "cell_type": "code",
   "execution_count": 14,
   "metadata": {},
   "outputs": [
    {
     "name": "stdout",
     "output_type": "stream",
     "text": [
      "torch.Size([100])\n"
     ]
    }
   ],
   "source": [
    "\n",
    "# 模型单独测试\n",
    "pretrained_embeddings = text_field.vocab.vectors\n",
    "embedding_dim = 100\n",
    "output_dim = 2\n",
    "hidden_size = 50\n",
    "num_layers=5\n",
    "bidirectional = True\n",
    "model = TextRNN_Attention(embedding_dim,output_dim,hidden_size,num_layers,bidirectional,pretrained_embeddings, device)\n",
    "for i in train_iter:\n",
    "#     print(i.text, i.text.shape)\n",
    "    model.forward(i.text)\n",
    "    break"
   ]
  },
  {
   "cell_type": "markdown",
   "metadata": {},
   "source": [
    "## TextRCNN 模型"
   ]
  },
  {
   "cell_type": "code",
   "execution_count": 15,
   "metadata": {},
   "outputs": [],
   "source": [
    "from model.TextRCNN import TextRCNN\n"
   ]
  },
  {
   "cell_type": "code",
   "execution_count": 16,
   "metadata": {},
   "outputs": [],
   "source": [
    "\n",
    "# 模型单独测试\n",
    "pretrained_embeddings = text_field.vocab.vectors\n",
    "embedding_dim = 100\n",
    "output_dim = 2\n",
    "hidden_size = 50\n",
    "num_layers=5\n",
    "bidirectional = True\n",
    "model = TextRCNN(embedding_dim,output_dim,hidden_size,num_layers,bidirectional,pretrained_embeddings, device)\n",
    "for i in train_iter:\n",
    "#     print(i.text, i.text.shape)\n",
    "    model.forward(i.text)\n",
    "    break"
   ]
  },
  {
   "cell_type": "markdown",
   "metadata": {},
   "source": [
    "# 训练验证"
   ]
  },
  {
   "cell_type": "code",
   "execution_count": null,
   "metadata": {
    "scrolled": true
   },
   "outputs": [
    {
     "name": "stdout",
     "output_type": "stream",
     "text": [
      "************************* epoch: 0 *************************\n"
     ]
    }
   ],
   "source": [
    "%%time\n",
    "# seed_everything()\n",
    "\n",
    "train_batch_size, val_batch_size = 2**7, 2**7\n",
    "\n",
    "pretrained_embeddings = text_field.vocab.vectors\n",
    "\n",
    "modelHandlerParams = {}\n",
    "modelHandlerParams['epoch_num'] = 1000000\n",
    "modelHandlerParams['train_batch_size'] = train_batch_size\n",
    "modelHandlerParams['val_batch_size'] = val_batch_size\n",
    "modelHandlerParams['device'] = device\n",
    "\n",
    "modelHandlerParams['model'] = model\n",
    "modelHandler = ModelHandler(modelHandlerParams)\n",
    "\n",
    "# 二分类交叉熵\n",
    "loss_fn = nn.BCEWithLogitsLoss().to(device)\n",
    "# 调参地方，分别调整为0.1,0.01,0.001，最优为0.01\n",
    "optimizer = optim.Adam(model.parameters(), lr=0.01,\n",
    "                       weight_decay=0.00001) # lr sets the learning rate of the optimizer\n",
    "\n",
    "modelHandler.fit(train_iter=train_iter, val_iter=dev_iter,loss_fn=loss_fn,optimizer=optimizer,\n",
    "                 early_stopping_rounds=10, verbose=2)"
   ]
  },
  {
   "cell_type": "code",
   "execution_count": null,
   "metadata": {
    "collapsed": true
   },
   "outputs": [],
   "source": []
  },
  {
   "cell_type": "code",
   "execution_count": null,
   "metadata": {
    "collapsed": true
   },
   "outputs": [],
   "source": []
  },
  {
   "cell_type": "code",
   "execution_count": null,
   "metadata": {
    "collapsed": true
   },
   "outputs": [],
   "source": []
  },
  {
   "cell_type": "code",
   "execution_count": null,
   "metadata": {
    "collapsed": true
   },
   "outputs": [],
   "source": []
  },
  {
   "cell_type": "code",
   "execution_count": null,
   "metadata": {
    "collapsed": true
   },
   "outputs": [],
   "source": []
  }
 ],
 "metadata": {
  "kernelspec": {
   "display_name": "Python 3",
   "language": "python",
   "name": "python3"
  },
  "language_info": {
   "codemirror_mode": {
    "name": "ipython",
    "version": 3
   },
   "file_extension": ".py",
   "mimetype": "text/x-python",
   "name": "python",
   "nbconvert_exporter": "python",
   "pygments_lexer": "ipython3",
   "version": "3.6.6+"
  },
  "toc": {
   "base_numbering": 1,
   "nav_menu": {},
   "number_sections": true,
   "sideBar": true,
   "skip_h1_title": false,
   "title_cell": "Table of Contents",
   "title_sidebar": "Contents",
   "toc_cell": false,
   "toc_position": {
    "height": "calc(100% - 180px)",
    "left": "10px",
    "top": "150px",
    "width": "200px"
   },
   "toc_section_display": true,
   "toc_window_display": true
  }
 },
 "nbformat": 4,
 "nbformat_minor": 2
}
