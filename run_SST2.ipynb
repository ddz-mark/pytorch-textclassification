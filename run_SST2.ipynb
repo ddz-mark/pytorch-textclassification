{
 "cells": [
  {
   "cell_type": "markdown",
   "metadata": {},
   "source": [
    "# 导库"
   ]
  },
  {
   "cell_type": "code",
   "execution_count": 1,
   "metadata": {},
   "outputs": [
    {
     "name": "stdout",
     "output_type": "stream",
     "text": [
      "device is cpu, not recommend\n",
      "cpu\n",
      "(67349, 2)\n",
      "(872, 2)\n",
      "(1821, 2)\n",
      "the size of train: 67349, dev:872, test:1821\n",
      "['contains', 'no', 'wit', ',', 'only', 'labored', 'gags'] 0\n",
      "['unflinchingly', 'bleak', 'and', 'desperate'] 0\n",
      "['this', 'film', \"'s\", 'relationship', 'to', 'actual', 'tension', 'is', 'the', 'same', 'as', 'what', 'christmas', '-', 'tree', 'flocking', 'in', 'a', 'spray', 'can', 'is', 'to', 'actual', 'snow', ':', 'a', 'poor', '--', 'if', 'durable', '--', 'imitation', '.']\n",
      "16292\n",
      "1821\n",
      "the size of train_iter: 527, dev_iter:7, test_iter:1\n",
      "0 torch.Size([128, 40]) torch.Size([128])\n",
      "the size of train: 67349, dev:872, test:1821\n",
      "the result of dataset:  ['hide', 'new', 'secretions', 'from', 'the', 'parental', 'units'] 0\n",
      "the size of train_iter: 527, dev_iter:7, test_iter:1\n",
      "the shape of train_x: torch.Size([128, 40]), train_y:torch.Size([128])\n"
     ]
    }
   ],
   "source": [
    "import torch\n",
    "import torch.optim as optim\n",
    "import torch.nn as nn\n",
    "import torch.nn.functional as F\n",
    "\n",
    "from torchtext import data\n",
    "from torchtext import datasets\n",
    "from torchtext import vocab\n",
    "\n",
    "from tqdm import tqdm\n",
    "\n",
    "import pandas as pd\n",
    "import numpy as np\n",
    "import random\n",
    "\n",
    "import os\n",
    "\n",
    "from sklearn.metrics import roc_auc_score\n",
    "\n",
    "# 导入自己的库\n",
    "from Util.utils import seed_everything,get_device\n",
    "from Util.SST2_data import load_sst2\n",
    "from ModelHandler import *\n"
   ]
  },
  {
   "cell_type": "code",
   "execution_count": 3,
   "metadata": {},
   "outputs": [
    {
     "name": "stdout",
     "output_type": "stream",
     "text": [
      "device is cpu, not recommend\n",
      "cpu 0\n"
     ]
    }
   ],
   "source": [
    "device, n_gpu=get_device()\n",
    "print(device, n_gpu)"
   ]
  },
  {
   "cell_type": "markdown",
   "metadata": {},
   "source": [
    "# 加载 SST2 数据"
   ]
  },
  {
   "cell_type": "code",
   "execution_count": 4,
   "metadata": {
    "collapsed": true
   },
   "outputs": [],
   "source": [
    "# SST2 数据准备\n",
    "\n",
    "text_field = data.Field(tokenize='spacy', lower=True, fix_length=40, batch_first=True)\n",
    "label_field = data.LabelField(dtype=torch.long)"
   ]
  },
  {
   "cell_type": "code",
   "execution_count": 5,
   "metadata": {},
   "outputs": [
    {
     "name": "stdout",
     "output_type": "stream",
     "text": [
      "(67349, 2)\n",
      "(872, 2)\n",
      "(1821, 2)\n"
     ]
    }
   ],
   "source": [
    "BASE_PATH = \"/home/dudaizhong/Downloads/SST-2/\"\n",
    "train_pd = pd.read_csv(BASE_PATH+'train.tsv', sep='\\t')\n",
    "dev_pd = pd.read_csv(BASE_PATH + 'dev.tsv', sep='\\t')\n",
    "test_pd = pd.read_csv(BASE_PATH + 'test.tsv', sep='\\t')\n",
    "\n",
    "print(train_pd.shape)\n",
    "print(dev_pd.shape)\n",
    "print(test_pd.shape)"
   ]
  },
  {
   "cell_type": "code",
   "execution_count": 6,
   "metadata": {},
   "outputs": [
    {
     "name": "stdout",
     "output_type": "stream",
     "text": [
      "the size of train: 67349, dev:872, test:1821\n",
      "the result of dataset:  ['hide', 'new', 'secretions', 'from', 'the', 'parental', 'units'] 0\n",
      "the size of train_iter: 527, dev_iter:7, test_iter:1\n",
      "the shape of train_x: torch.Size([128, 40]), train_y:torch.Size([128])\n"
     ]
    }
   ],
   "source": [
    "batch_size = 128\n",
    "train_iter, dev_iter, test_iter = load_sst2(BASE_PATH, text_field, label_field, batch_size, device)"
   ]
  },
  {
   "cell_type": "markdown",
   "metadata": {},
   "source": [
    "# 网络结构"
   ]
  },
  {
   "cell_type": "code",
   "execution_count": 7,
   "metadata": {
    "collapsed": true
   },
   "outputs": [],
   "source": [
    "# 1.与维度变换相关函数 view()，permute()，size(), torch.squeeze() / torch.unsqueeze()\n",
    "# 2.Embedding层加载预训练模型的方式：1）copy，2）from_pretrained。\n",
    "\n",
    "class Enet(nn.Module):\n",
    "    def __init__(self,pretrained_embeddings):\n",
    "        super(Enet, self).__init__()\n",
    "#         self.embedding = nn.Embedding(len_vocab,100)\n",
    "        self.embedding = nn.Embedding.from_pretrained(\n",
    "            pretrained_embeddings, freeze=False)\n",
    "        # LSTM 参数以及输入输出说明：\n",
    "        # 结构参数：LSTM(input_size, hidden_size, num_layers)\n",
    "        # input_size:输入的特征数量\n",
    "        # hidden_size:隐藏的特征数量\n",
    "        # num_layers:层数\n",
    "        self.lstm = nn.LSTM(100,64,3,batch_first=True)#,bidirectional=True)\n",
    "        self.linear = nn.Linear(64,2)\n",
    "        \n",
    "    def forward(self, x):\n",
    "        batch_size,seq_num = x.shape\n",
    "#         print(x.shape) #(batch_size 128, sent_len 40)\n",
    "        vec = self.embedding(x)\n",
    "#         print(vec.shape) #(batch_size 128,sent_len 40,emb_dim 100)\n",
    "        out, (hn, cn) = self.lstm(vec)\n",
    "#         print(out.shape) #(batch_size 128,sent_len 40,64)\n",
    "        out = self.linear(out[:,-1,:])\n",
    "#         print(out.shape) #(batch_size 128,2)\n",
    "        out = F.softmax(out,-1)\n",
    "        return out\n",
    "    "
   ]
  },
  {
   "cell_type": "markdown",
   "metadata": {},
   "source": [
    "## TextCNN 模型"
   ]
  },
  {
   "cell_type": "code",
   "execution_count": 10,
   "metadata": {
    "collapsed": true
   },
   "outputs": [],
   "source": [
    "# 卷积网络一般情况\n",
    "class Conv1d(nn.Module):\n",
    "    def __init__(self, in_channels, out_channels, filter_sizes):\n",
    "        super(Conv1d, self).__init__()\n",
    "        self.convs = nn.ModuleList([\n",
    "            nn.Conv1d(in_channels=in_channels,\n",
    "                      out_channels=out_channels,\n",
    "                      kernel_size=fs)\n",
    "            for fs in filter_sizes\n",
    "        ])\n",
    "\n",
    "        self.init_params()\n",
    "\n",
    "    def init_params(self):\n",
    "        for m in self.convs:\n",
    "            nn.init.xavier_uniform_(m.weight.data)\n",
    "            nn.init.constant_(m.bias.data, 0.1)\n",
    "\n",
    "    def forward(self, x):\n",
    "        return [F.relu(conv(x)) for conv in self.convs]"
   ]
  },
  {
   "cell_type": "code",
   "execution_count": 26,
   "metadata": {
    "collapsed": true
   },
   "outputs": [],
   "source": [
    "\n",
    "class TextCNN(nn.Module):\n",
    "    def __init__(self,embedding_dim, n_filters, filter_sizes, output_dim,\n",
    "                  pretrained_embeddings):\n",
    "        super(TextCNN, self).__init__()\n",
    "#         self.embedding = nn.Embedding(len_vocab,100)\n",
    "        self.embedding = nn.Embedding.from_pretrained(\n",
    "            pretrained_embeddings, freeze=False)\n",
    "        \n",
    "        self.convs = Conv1d(embedding_dim,n_filters,filter_sizes)\n",
    "        \n",
    "        self.fc = nn.Linear(len(filter_sizes) * n_filters, output_dim)\n",
    "        \n",
    "    def forward(self, x):\n",
    "        batch_size,seq_num = x.shape\n",
    "#         print(x.shape) #(batch_size,sent_len),(128,40)\n",
    "        vec = self.embedding(x)\n",
    "#         print(vec.shape) #(batch_size,sent_len,emb_dim),(128,40,100)\n",
    "        vec = vec.permute(0,2,1)\n",
    "#         print(vec.shape) #(batch_size,emb_dim,sent_len),(128,100,40)\n",
    "        \n",
    "        conved = self.convs(vec)\n",
    "#         print([conv.shape for conv in conved]) \n",
    "#         (batch_size,n_filters,sent_len - filter_sizes[n] - 1)([128, 100, 40-2+1]), torch.Size([128, 100, 37]), torch.Size([128, 100, 36])\n",
    "        \n",
    "        pooled = [F.max_pool1d(conv, conv.shape[2]).squeeze(2)\n",
    "                  for conv in conved]\n",
    "#         print([pool.shape for pool in pooled]) \n",
    "#        (batch_size, n_filters)([128, 100]), torch.Size([128, 100]), torch.Size([128, 100])\n",
    "        \n",
    "#         cat函数将（A,B），dim=0按行拼接，dim=1按列拼接\n",
    "        cat = torch.cat(pooled, dim=1)\n",
    "#         print(cat.shape) # [128, 300]\n",
    "        out = self.fc(cat)\n",
    "#         print(out.shape) # [128, 2]\n",
    "        \n",
    "        return out\n",
    "    "
   ]
  },
  {
   "cell_type": "code",
   "execution_count": 27,
   "metadata": {},
   "outputs": [
    {
     "name": "stdout",
     "output_type": "stream",
     "text": [
      "tensor([[ 139,  562,   16,  ...,    1,    1,    1],\n",
      "        [  31,    6,    2,  ...,    1,    1,    1],\n",
      "        [  13,  358,    6,  ...,    1,    1,    1],\n",
      "        ...,\n",
      "        [  52, 2509,    3,  ...,    1,    1,    1],\n",
      "        [  10,   35,  665,  ...,    1,    1,    1],\n",
      "        [4908,    3, 5795,  ...,    1,    1,    1]]) torch.Size([128, 40])\n"
     ]
    }
   ],
   "source": [
    "# 模型单独测试\n",
    "pretrained_embeddings = text_field.vocab.vectors\n",
    "textCNN = TextCNN(100,100,[3,4,5],2,pretrained_embeddings)\n",
    "for i in train_iter:\n",
    "    print(i.text, i.text.shape)\n",
    "    textCNN.forward(i.text)\n",
    "    break\n",
    "\n"
   ]
  },
  {
   "cell_type": "markdown",
   "metadata": {},
   "source": [
    "## TextRNN 模型"
   ]
  },
  {
   "cell_type": "code",
   "execution_count": 129,
   "metadata": {
    "collapsed": true
   },
   "outputs": [],
   "source": [
    "import torch.nn as nn\n",
    "import torch.nn.functional as F\n",
    "import torch\n",
    "\n",
    "\n",
    "class LSTM(nn.Module):\n",
    "\n",
    "    def __init__(self, input_size, hidden_size, num_layers, bidirectional, batch_first=True,dropout=0):\n",
    "        \"\"\"\n",
    "        Args: \n",
    "            input_size: x 的特征维度\n",
    "            hidden_size: 隐层的特征维度\n",
    "            num_layers: LSTM 层数\n",
    "        \"\"\"\n",
    "        super(LSTM, self).__init__()\n",
    "\n",
    "        self.rnn = nn.LSTM(\n",
    "            input_size=input_size, hidden_size=hidden_size, num_layers=num_layers, bidirectional=bidirectional, \n",
    "            batch_first=batch_first, dropout=dropout\n",
    "        )\n",
    "\n",
    "        self.init_params()\n",
    "\n",
    "    def init_params(self):\n",
    "        for i in range(self.rnn.num_layers):\n",
    "            nn.init.orthogonal_(getattr(self.rnn, f'weight_hh_l{i}'))\n",
    "            nn.init.kaiming_normal_(getattr(self.rnn, f'weight_ih_l{i}'))\n",
    "            nn.init.constant_(getattr(self.rnn, f'bias_hh_l{i}'), val=0)\n",
    "            nn.init.constant_(getattr(self.rnn, f'bias_ih_l{i}'), val=0)\n",
    "            getattr(self.rnn, f'bias_hh_l{i}').chunk(4)[1].fill_(1)\n",
    "\n",
    "            if self.rnn.bidirectional:\n",
    "                nn.init.orthogonal_(\n",
    "                    getattr(self.rnn, f'weight_hh_l{i}_reverse'))\n",
    "                nn.init.kaiming_normal_(\n",
    "                    getattr(self.rnn, f'weight_ih_l{i}_reverse'))\n",
    "                nn.init.constant_(\n",
    "                    getattr(self.rnn, f'bias_hh_l{i}_reverse'), val=0)\n",
    "                nn.init.constant_(\n",
    "                    getattr(self.rnn, f'bias_ih_l{i}_reverse'), val=0)\n",
    "                getattr(self.rnn, f'bias_hh_l{i}_reverse').chunk(4)[1].fill_(1)\n",
    "\n",
    "    def forward(self, x, lengths):\n",
    "        # x: [seq_len, batch_size, input_size]\n",
    "        # lengths: [batch_size]\n",
    "        packed_x = nn.utils.rnn.pack_padded_sequence(x, lengths)\n",
    "\n",
    "        # packed_x， packed_output: PackedSequence 对象\n",
    "        # hidden: [num_layers * bidirectional, batch_size, hidden_size]\n",
    "        # cell: [num_layers * bidirectional, batch_size, hidden_size]\n",
    "        packed_output, (hidden, cell) = self.rnn(packed_x)\n",
    "\n",
    "        # output: [real_seq_len, batch_size, hidden_size * 2]\n",
    "        # output_lengths: [batch_size]\n",
    "        output, output_lengths = nn.utils.rnn.pad_packed_sequence(packed_output)\n",
    "\n",
    "        return hidden, output"
   ]
  },
  {
   "cell_type": "code",
   "execution_count": 175,
   "metadata": {},
   "outputs": [],
   "source": [
    "# 卷积网络一般情况\n",
    "class TextRNN(nn.Module):\n",
    "    def __init__(self,embedding_dim, output_dim, hidden_size, num_layers, bidirectional, pretrained_embeddings):\n",
    "        super(TextRNN, self).__init__()\n",
    "        \n",
    "        self.hidden_size = hidden_size\n",
    "        \n",
    "#         self.embedding = nn.Embedding(len_vocab,100)\n",
    "        self.embedding = nn.Embedding.from_pretrained(\n",
    "            pretrained_embeddings, freeze=False)\n",
    "        # LSTM 参数以及输入输出说明：\n",
    "        # 结构参数：LSTM(input_size, hidden_size, num_layers)\n",
    "        # input_size:输入的特征数量\n",
    "        # hidden_size:隐藏的特征数量\n",
    "        # num_layers:层数\n",
    "        self.lstm = nn.LSTM(embedding_dim,hidden_size,num_layers,bidirectional=bidirectional)#,bidirectional=True)\n",
    "        \n",
    "        self.fc = nn.Linear(hidden_size * 2, output_dim)\n",
    "        \n",
    "    def forward(self, x):\n",
    "        batch_size,sent_len = x.shape\n",
    "#         print(x.shape) #(batch_size 128, sent_len 40)\n",
    "        vec = self.embedding(x)\n",
    "#         print(vec.shape) #(batch_size 128,sent_len 40,emb_dim 100)\n",
    "        vec = vec.permute(1,0,2)\n",
    "        lstm_out, (hn, cn) = self.lstm(vec)\n",
    "#         print(lstm_out.shape) #(sent_len 40,batch_size 128,hidden_size*2 128)\n",
    "        # 这里进行前后连接时，使用的隐藏状态 hn 的最后一层 与 直接使用lstm_out中最后一层有不一样\n",
    "        hn = torch.cat((hn[-2,:,:], hn[-1,:,:]), dim=1)\n",
    "#         print(\"hn shape:\",hn.shape) # ([128, 128])\n",
    "        out = self.fc(hn)\n",
    "#         print(out.shape)\n",
    "        return out"
   ]
  },
  {
   "cell_type": "code",
   "execution_count": 174,
   "metadata": {},
   "outputs": [
    {
     "name": "stdout",
     "output_type": "stream",
     "text": [
      "torch.Size([128, 40])\n",
      "torch.Size([128, 40, 100])\n",
      "torch.Size([40, 128, 100])\n",
      "hn shape: torch.Size([128, 100])\n",
      "torch.Size([128, 2])\n"
     ]
    }
   ],
   "source": [
    "# 模型单独测试\n",
    "pretrained_embeddings = text_field.vocab.vectors\n",
    "embedding_dim = 100\n",
    "output_dim = 2\n",
    "hidden_size = 50\n",
    "num_layers=5\n",
    "bidirectional = True\n",
    "model = TextRNN(embedding_dim,output_dim,hidden_size,num_layers,bidirectional,pretrained_embeddings)\n",
    "for i in train_iter:\n",
    "#     print(i.text, i.text.shape)\n",
    "    model.forward(i.text)\n",
    "    break\n"
   ]
  },
  {
   "cell_type": "code",
   "execution_count": null,
   "metadata": {
    "collapsed": true
   },
   "outputs": [],
   "source": []
  },
  {
   "cell_type": "markdown",
   "metadata": {},
   "source": [
    "# 训练验证"
   ]
  },
  {
   "cell_type": "code",
   "execution_count": null,
   "metadata": {},
   "outputs": [
    {
     "name": "stdout",
     "output_type": "stream",
     "text": [
      "************************* epoch: 0 *************************\n"
     ]
    }
   ],
   "source": [
    "%%time\n",
    "# seed_everything()\n",
    "\n",
    "train_batch_size, val_batch_size = 2**7, 2**7\n",
    "\n",
    "pretrained_embeddings = text_field.vocab.vectors\n",
    "# model = Enet(pretrained_embeddings)\n",
    "# model = TextCNN(100,100,[3,4,5],2,pretrained_embeddings)\n",
    "\n",
    "pretrained_embeddings = text_field.vocab.vectors\n",
    "embedding_dim = 100\n",
    "output_dim = 2\n",
    "hidden_size = 50\n",
    "num_layers=5\n",
    "bidirectional = True\n",
    "model = TextRNN(embedding_dim,output_dim,hidden_size,num_layers,bidirectional,pretrained_embeddings)\n",
    "\n",
    "modelHandlerParams = {}\n",
    "modelHandlerParams['epoch_num'] = 1000000\n",
    "modelHandlerParams['train_batch_size'] = train_batch_size\n",
    "modelHandlerParams['val_batch_size'] = val_batch_size\n",
    "modelHandlerParams['device'] = device\n",
    "\n",
    "modelHandlerParams['model'] = model\n",
    "modelHandler = ModelHandler(modelHandlerParams)\n",
    "\n",
    "# 二分类交叉熵\n",
    "loss_fn = nn.BCEWithLogitsLoss().to(device)\n",
    "# 调参地方，分别调整为0.1,0.01,0.001，最优为0.01\n",
    "optimizer = optim.Adam(model.parameters(), lr=0.01,\n",
    "                       weight_decay=0.00001) # lr sets the learning rate of the optimizer\n",
    "\n",
    "modelHandler.fit(train_iter=train_iter, val_iter=dev_iter,loss_fn=loss_fn,optimizer=optimizer,\n",
    "                 early_stopping_rounds=10, verbose=2)"
   ]
  },
  {
   "cell_type": "code",
   "execution_count": null,
   "metadata": {
    "collapsed": true
   },
   "outputs": [],
   "source": []
  },
  {
   "cell_type": "code",
   "execution_count": 73,
   "metadata": {},
   "outputs": [
    {
     "name": "stdout",
     "output_type": "stream",
     "text": [
      "torch.Size([5, 10]) torch.Size([5, 5])\n",
      "torch.Size([5, 5]) torch.Size([5, 5])\n"
     ]
    }
   ],
   "source": [
    "# input_size, hidden_size, num_layers\n",
    "# rnn = nn.RNN(10, 5, 2)\n",
    "\n",
    "# inputR = torch.randn(2, 1, 10)\n",
    "\n",
    "# h0 = torch.randn(2, 1, 5)\n",
    "\n",
    "# output, hn = rnn(inputR, h0)\n",
    "# print(output.shape)\n",
    "# print(hn.shape)\n",
    "\n",
    "# print(rnn.weight_ih_l0.data.shape,rnn.weight_hh_l0.data.shape)\n",
    "# print(rnn.weight_ih_l1.data.shape,rnn.weight_hh_l1.data.shape)"
   ]
  },
  {
   "cell_type": "code",
   "execution_count": null,
   "metadata": {
    "collapsed": true
   },
   "outputs": [],
   "source": []
  },
  {
   "cell_type": "code",
   "execution_count": null,
   "metadata": {
    "collapsed": true
   },
   "outputs": [],
   "source": []
  },
  {
   "cell_type": "code",
   "execution_count": null,
   "metadata": {
    "collapsed": true
   },
   "outputs": [],
   "source": []
  }
 ],
 "metadata": {
  "kernelspec": {
   "display_name": "Python 3",
   "language": "python",
   "name": "python3"
  },
  "language_info": {
   "codemirror_mode": {
    "name": "ipython",
    "version": 3
   },
   "file_extension": ".py",
   "mimetype": "text/x-python",
   "name": "python",
   "nbconvert_exporter": "python",
   "pygments_lexer": "ipython3",
   "version": "3.6.6+"
  },
  "toc": {
   "base_numbering": 1,
   "nav_menu": {},
   "number_sections": true,
   "sideBar": true,
   "skip_h1_title": false,
   "title_cell": "Table of Contents",
   "title_sidebar": "Contents",
   "toc_cell": false,
   "toc_position": {},
   "toc_section_display": true,
   "toc_window_display": true
  }
 },
 "nbformat": 4,
 "nbformat_minor": 2
}
