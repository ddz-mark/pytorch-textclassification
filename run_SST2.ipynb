{
 "cells": [
  {
   "cell_type": "markdown",
   "metadata": {},
   "source": [
    "# 导库"
   ]
  },
  {
   "cell_type": "code",
   "execution_count": 1,
   "metadata": {},
   "outputs": [],
   "source": [
    "import torch\n",
    "import torch.optim as optim\n",
    "import torch.nn as nn\n",
    "import torch.nn.functional as F\n",
    "\n",
    "from torchtext import data\n",
    "from torchtext import datasets\n",
    "from torchtext import vocab\n",
    "\n",
    "from tqdm import tqdm\n",
    "\n",
    "import pandas as pd\n",
    "import numpy as np\n",
    "import random\n",
    "\n",
    "import os\n",
    "\n",
    "from sklearn.metrics import roc_auc_score\n",
    "\n",
    "# 导入自己的库\n",
    "from Util.utils import get_device, seed_everything\n",
    "from Util.SST2_data import load_sst2\n",
    "from ModelHandler import *\n"
   ]
  },
  {
   "cell_type": "code",
   "execution_count": 2,
   "metadata": {},
   "outputs": [
    {
     "name": "stdout",
     "output_type": "stream",
     "text": [
      "device is cpu, not recommend\n",
      "cpu 0\n"
     ]
    }
   ],
   "source": [
    "device, n_gpu=get_device()\n",
    "print(device, n_gpu)\n"
   ]
  },
  {
   "cell_type": "code",
   "execution_count": 3,
   "metadata": {},
   "outputs": [
    {
     "data": {
      "text/plain": [
       "5"
      ]
     },
     "execution_count": 3,
     "metadata": {},
     "output_type": "execute_result"
    }
   ],
   "source": [
    "\n",
    "seed_everything()\n",
    "random.randint(1,10)"
   ]
  },
  {
   "cell_type": "markdown",
   "metadata": {},
   "source": [
    "# 加载 SST2 数据"
   ]
  },
  {
   "cell_type": "code",
   "execution_count": 4,
   "metadata": {
    "collapsed": true
   },
   "outputs": [],
   "source": [
    "# SST2 数据准备\n",
    "\n",
    "text_field = data.Field(tokenize='spacy', lower=True, include_lengths=True,fix_length=40, batch_first=True)\n",
    "label_field = data.LabelField(dtype=torch.long)"
   ]
  },
  {
   "cell_type": "code",
   "execution_count": 5,
   "metadata": {},
   "outputs": [
    {
     "name": "stdout",
     "output_type": "stream",
     "text": [
      "(67349, 2)\n",
      "(872, 2)\n",
      "(1821, 2)\n"
     ]
    }
   ],
   "source": [
    "BASE_PATH = \"/home/dudaizhong/Downloads/SST-2/\"\n",
    "train_pd = pd.read_csv(BASE_PATH+'train.tsv', sep='\\t')\n",
    "dev_pd = pd.read_csv(BASE_PATH + 'dev.tsv', sep='\\t')\n",
    "test_pd = pd.read_csv(BASE_PATH + 'test.tsv', sep='\\t')\n",
    "\n",
    "print(train_pd.shape)\n",
    "print(dev_pd.shape)\n",
    "print(test_pd.shape)"
   ]
  },
  {
   "cell_type": "code",
   "execution_count": 6,
   "metadata": {},
   "outputs": [
    {
     "name": "stdout",
     "output_type": "stream",
     "text": [
      "the size of train: 67349, dev:872, test:1821\n",
      "the result of dataset:  ['hide', 'new', 'secretions', 'from', 'the', 'parental', 'units'] 0\n",
      "the size of train_iter: 527, dev_iter:7, test_iter:1\n"
     ]
    }
   ],
   "source": [
    "batch_size = 128\n",
    "train_iter, dev_iter, test_iter = load_sst2(BASE_PATH, text_field, label_field, batch_size, device)\n"
   ]
  },
  {
   "cell_type": "code",
   "execution_count": 7,
   "metadata": {},
   "outputs": [
    {
     "name": "stdout",
     "output_type": "stream",
     "text": [
      "0 torch.Size([128, 40]) torch.Size([128])\n",
      "(tensor([[3059, 1742,    5,  ...,    1,    1,    1],\n",
      "        [  19,   47,    6,  ...,    1,    1,    1],\n",
      "        [  47, 2771, 3034,  ...,    1,    1,    1],\n",
      "        ...,\n",
      "        [ 518,  267,    3,  ...,    1,    1,    1],\n",
      "        [  23,    4, 2021,  ...,    1,    1,    1],\n",
      "        [ 159,    2,  326,  ...,    1,    1,    1]]), tensor([36, 36, 36, 36, 36, 36, 36, 36, 36, 36, 36, 35, 35, 35, 35, 35, 35, 35,\n",
      "        35, 35, 35, 35, 35, 35, 35, 35, 35, 35, 35, 35, 35, 35, 35, 35, 35, 35,\n",
      "        35, 35, 35, 35, 35, 35, 35, 35, 35, 35, 34, 34, 34, 34, 34, 34, 34, 34,\n",
      "        34, 34, 34, 34, 34, 34, 34, 34, 34, 34, 34, 34, 34, 34, 34, 34, 34, 34,\n",
      "        34, 34, 34, 34, 34, 34, 34, 34, 34, 34, 34, 34, 34, 34, 33, 33, 33, 33,\n",
      "        33, 33, 33, 33, 33, 33, 33, 33, 33, 33, 33, 33, 33, 33, 33, 33, 33, 33,\n",
      "        33, 33, 33, 33, 33, 33, 33, 33, 33, 33, 33, 33, 33, 33, 33, 33, 33, 33,\n",
      "        33, 33]))\n"
     ]
    }
   ],
   "source": [
    "# 查看数据\n",
    "\n",
    "for batch_idx, (X_train_var, y_train_var) in enumerate(train_iter):\n",
    "    print(batch_idx, X_train_var[0].shape, y_train_var.shape)\n",
    "    print(X_train_var)\n",
    "    break"
   ]
  },
  {
   "cell_type": "markdown",
   "metadata": {},
   "source": [
    "# 网络结构"
   ]
  },
  {
   "cell_type": "code",
   "execution_count": 8,
   "metadata": {
    "collapsed": true
   },
   "outputs": [],
   "source": [
    "# 1.与维度变换相关函数 view()，permute()，size(), torch.squeeze() / torch.unsqueeze()\n",
    "# 2.Embedding层加载预训练模型的方式：1）copy，2）from_pretrained。\n",
    "\n",
    "class Enet(nn.Module):\n",
    "    def __init__(self,pretrained_embeddings):\n",
    "        super(Enet, self).__init__()\n",
    "#         self.embedding = nn.Embedding(len_vocab,100)\n",
    "        self.embedding = nn.Embedding.from_pretrained(\n",
    "            pretrained_embeddings, freeze=False)\n",
    "        # LSTM 参数以及输入输出说明：\n",
    "        # 结构参数：LSTM(input_size, hidden_size, num_layers)\n",
    "        # input_size:输入的特征数量\n",
    "        # hidden_size:隐藏的特征数量\n",
    "        # num_layers:层数\n",
    "        self.lstm = nn.LSTM(100,64,3,batch_first=True)#,bidirectional=True)\n",
    "        self.linear = nn.Linear(64,2)\n",
    "        \n",
    "    def forward(self, x):\n",
    "        batch_size,seq_num = x.shape\n",
    "#         print(x.shape) #(batch_size 128, sent_len 40)\n",
    "        vec = self.embedding(x)\n",
    "#         print(vec.shape) #(batch_size 128,sent_len 40,emb_dim 100)\n",
    "        out, (hn, cn) = self.lstm(vec)\n",
    "#         print(out.shape) #(batch_size 128,sent_len 40,64)\n",
    "        out = self.linear(out[:,-1,:])\n",
    "#         print(out.shape) #(batch_size 128,2)\n",
    "        out = F.softmax(out,-1)\n",
    "        return out\n",
    "    "
   ]
  },
  {
   "cell_type": "markdown",
   "metadata": {},
   "source": [
    "## TextCNN 模型"
   ]
  },
  {
   "cell_type": "code",
   "execution_count": 9,
   "metadata": {
    "collapsed": true
   },
   "outputs": [],
   "source": [
    "# 卷积网络一般情况\n",
    "class Conv1d(nn.Module):\n",
    "    def __init__(self, in_channels, out_channels, filter_sizes):\n",
    "        super(Conv1d, self).__init__()\n",
    "        self.convs = nn.ModuleList([\n",
    "            nn.Conv1d(in_channels=in_channels,\n",
    "                      out_channels=out_channels,\n",
    "                      kernel_size=fs)\n",
    "            for fs in filter_sizes\n",
    "        ])\n",
    "\n",
    "        self.init_params()\n",
    "\n",
    "    def init_params(self):\n",
    "        for m in self.convs:\n",
    "            nn.init.xavier_uniform_(m.weight.data)\n",
    "            nn.init.constant_(m.bias.data, 0.1)\n",
    "\n",
    "    def forward(self, x):\n",
    "        return [F.relu(conv(x)) for conv in self.convs]"
   ]
  },
  {
   "cell_type": "code",
   "execution_count": 10,
   "metadata": {
    "collapsed": true
   },
   "outputs": [],
   "source": [
    "\n",
    "class TextCNN(nn.Module):\n",
    "    def __init__(self,embedding_dim, n_filters, filter_sizes, output_dim,\n",
    "                  pretrained_embeddings):\n",
    "        super(TextCNN, self).__init__()\n",
    "#         self.embedding = nn.Embedding(len_vocab,100)\n",
    "        self.embedding = nn.Embedding.from_pretrained(\n",
    "            pretrained_embeddings, freeze=False)\n",
    "        \n",
    "        self.convs = Conv1d(embedding_dim,n_filters,filter_sizes)\n",
    "        \n",
    "        self.fc = nn.Linear(len(filter_sizes) * n_filters, output_dim)\n",
    "        \n",
    "    def forward(self, x):\n",
    "        text, _ = x\n",
    "        \n",
    "        batch_size,seq_num = text.shape\n",
    "#         print(text.shape) #(batch_size,sent_len),(128,40)\n",
    "        vec = self.embedding(text)\n",
    "#         print(vec.shape) #(batch_size,sent_len,emb_dim),(128,40,100)\n",
    "        vec = vec.permute(0,2,1)\n",
    "#         print(vec.shape) #(batch_size,emb_dim,sent_len),(128,100,40)\n",
    "        \n",
    "        conved = self.convs(vec)\n",
    "#         print([conv.shape for conv in conved]) \n",
    "#         (batch_size,n_filters,sent_len - filter_sizes[n] - 1)([128, 100, 40-2+1]), torch.Size([128, 100, 37]), torch.Size([128, 100, 36])\n",
    "        \n",
    "        pooled = [F.max_pool1d(conv, conv.shape[2]).squeeze(2)\n",
    "                  for conv in conved]\n",
    "#         print([pool.shape for pool in pooled]) \n",
    "#        (batch_size, n_filters)([128, 100]), torch.Size([128, 100]), torch.Size([128, 100])\n",
    "        \n",
    "#         cat函数将（A,B），dim=0按行拼接，dim=1按列拼接\n",
    "        cat = torch.cat(pooled, dim=1)\n",
    "#         print(cat.shape) # [128, 300]\n",
    "        out = self.fc(cat)\n",
    "#         print(out.shape) # [128, 2]\n",
    "        \n",
    "        return out\n",
    "    "
   ]
  },
  {
   "cell_type": "code",
   "execution_count": 11,
   "metadata": {},
   "outputs": [],
   "source": [
    "# 模型单独测试\n",
    "pretrained_embeddings = text_field.vocab.vectors\n",
    "textCNN = TextCNN(100,100,[3,4,5],2,pretrained_embeddings)\n",
    "for i in train_iter:\n",
    "    textCNN.forward(i.text)\n",
    "    break\n",
    "\n"
   ]
  },
  {
   "cell_type": "markdown",
   "metadata": {},
   "source": [
    "## TextRNN 模型"
   ]
  },
  {
   "cell_type": "code",
   "execution_count": null,
   "metadata": {
    "collapsed": true
   },
   "outputs": [],
   "source": [
    "import torch.nn as nn\n",
    "import torch.nn.functional as F\n",
    "import torch\n",
    "\n",
    "\n",
    "class LSTM(nn.Module):\n",
    "\n",
    "    def __init__(self, input_size, hidden_size, num_layers, bidirectional, batch_first=True,dropout=0):\n",
    "        \"\"\"\n",
    "        Args: \n",
    "            input_size: x 的特征维度\n",
    "            hidden_size: 隐层的特征维度\n",
    "            num_layers: LSTM 层数\n",
    "        \"\"\"\n",
    "        super(LSTM, self).__init__()\n",
    "\n",
    "        self.rnn = nn.LSTM(\n",
    "            input_size=input_size, hidden_size=hidden_size, num_layers=num_layers, bidirectional=bidirectional, \n",
    "            batch_first=batch_first, dropout=dropout\n",
    "        )\n",
    "\n",
    "        self.init_params()\n",
    "\n",
    "    def init_params(self):\n",
    "        for i in range(self.rnn.num_layers):\n",
    "            nn.init.orthogonal_(getattr(self.rnn, f'weight_hh_l{i}'))\n",
    "            nn.init.kaiming_normal_(getattr(self.rnn, f'weight_ih_l{i}'))\n",
    "            nn.init.constant_(getattr(self.rnn, f'bias_hh_l{i}'), val=0)\n",
    "            nn.init.constant_(getattr(self.rnn, f'bias_ih_l{i}'), val=0)\n",
    "            getattr(self.rnn, f'bias_hh_l{i}').chunk(4)[1].fill_(1)\n",
    "\n",
    "            if self.rnn.bidirectional:\n",
    "                nn.init.orthogonal_(\n",
    "                    getattr(self.rnn, f'weight_hh_l{i}_reverse'))\n",
    "                nn.init.kaiming_normal_(\n",
    "                    getattr(self.rnn, f'weight_ih_l{i}_reverse'))\n",
    "                nn.init.constant_(\n",
    "                    getattr(self.rnn, f'bias_hh_l{i}_reverse'), val=0)\n",
    "                nn.init.constant_(\n",
    "                    getattr(self.rnn, f'bias_ih_l{i}_reverse'), val=0)\n",
    "                getattr(self.rnn, f'bias_hh_l{i}_reverse').chunk(4)[1].fill_(1)\n",
    "\n",
    "    def forward(self, x, lengths):\n",
    "        # x: [seq_len, batch_size, input_size]\n",
    "        # lengths: [batch_size]\n",
    "        packed_x = nn.utils.rnn.pack_padded_sequence(x, lengths)\n",
    "\n",
    "        # packed_x， packed_output: PackedSequence 对象\n",
    "        # hidden: [num_layers * bidirectional, batch_size, hidden_size]\n",
    "        # cell: [num_layers * bidirectional, batch_size, hidden_size]\n",
    "        packed_output, (hidden, cell) = self.rnn(packed_x)\n",
    "\n",
    "        # output: [real_seq_len, batch_size, hidden_size * 2]\n",
    "        # output_lengths: [batch_size]\n",
    "        output, output_lengths = nn.utils.rnn.pad_packed_sequence(packed_output)\n",
    "\n",
    "        return output, hidden"
   ]
  },
  {
   "cell_type": "code",
   "execution_count": null,
   "metadata": {
    "collapsed": true
   },
   "outputs": [],
   "source": [
    "# 卷积网络一般情况\n",
    "class TextRNN(nn.Module):\n",
    "    def __init__(self,embedding_dim, output_dim, hidden_size, num_layers, bidirectional, pretrained_embeddings):\n",
    "        super(TextRNN, self).__init__()\n",
    "        \n",
    "        self.hidden_size = hidden_size\n",
    "        \n",
    "#         self.embedding = nn.Embedding(len_vocab,100)\n",
    "        self.embedding = nn.Embedding.from_pretrained(\n",
    "            pretrained_embeddings, freeze=False)\n",
    "        # LSTM 参数以及输入输出说明：\n",
    "        # 结构参数：LSTM(input_size, hidden_size, num_layers)\n",
    "        # input_size:输入的特征数量\n",
    "        # hidden_size:隐藏的特征数量\n",
    "        # num_layers:层数\n",
    "        self.lstm = LSTM(embedding_dim,hidden_size,num_layers,bidirectional=bidirectional)#,bidirectional=True)\n",
    "        \n",
    "        self.fc = nn.Linear(hidden_size * 2, output_dim)\n",
    "        \n",
    "    def forward(self, x):\n",
    "        text, text_lengths = x\n",
    "        \n",
    "        batch_size,sent_len = text.shape\n",
    "#         print(text.shape) #(batch_size 128, sent_len 40)\n",
    "        vec = self.embedding(text)\n",
    "#         print(vec.shape) #(batch_size 128,sent_len 40,emb_dim 100)\n",
    "        vec = vec.permute(1,0,2)\n",
    "        lstm_out, hn = self.lstm(vec, text_lengths)\n",
    "#         print(lstm_out.shape) #(sent_len 40,batch_size 128,hidden_size*2 128)\n",
    "        # 这里进行前后连接时，使用的隐藏状态 hn 的最后一层 与 直接使用lstm_out中最后一层有不一样\n",
    "        out = torch.cat((hn[-2,:,:], hn[-1,:,:]), dim=1)\n",
    "#         print(\"hn shape:\",hn.shape) # ([128, 128])\n",
    "        out = self.fc(out)\n",
    "#         print(out.shape)\n",
    "        return out"
   ]
  },
  {
   "cell_type": "code",
   "execution_count": null,
   "metadata": {},
   "outputs": [],
   "source": [
    "# 模型单独测试\n",
    "pretrained_embeddings = text_field.vocab.vectors\n",
    "embedding_dim = 100\n",
    "output_dim = 2\n",
    "hidden_size = 50\n",
    "num_layers=5\n",
    "bidirectional = True\n",
    "model = TextRNN(embedding_dim,output_dim,hidden_size,num_layers,bidirectional,pretrained_embeddings)\n",
    "for i in train_iter:\n",
    "#     print(i.text, i.text.shape)\n",
    "    model.forward(i.text)\n",
    "    break\n"
   ]
  },
  {
   "cell_type": "code",
   "execution_count": null,
   "metadata": {
    "collapsed": true
   },
   "outputs": [],
   "source": []
  },
  {
   "cell_type": "markdown",
   "metadata": {},
   "source": [
    "# 训练验证"
   ]
  },
  {
   "cell_type": "code",
   "execution_count": 12,
   "metadata": {
    "scrolled": true
   },
   "outputs": [
    {
     "name": "stdout",
     "output_type": "stream",
     "text": [
      "************************* epoch: 0 *************************\n",
      "train auc: 0.9254213670958942\n",
      "train loss: 0.3519869156082848\n",
      "*****Checking accuracy on validation set*****\n",
      "batchNum: 7\n",
      "val_auc: 0.8962142647677954\n",
      "val_loss: 0.42150779707091196\n",
      "************************* epoch: 1 *************************\n"
     ]
    },
    {
     "ename": "KeyboardInterrupt",
     "evalue": "",
     "output_type": "error",
     "traceback": [
      "\u001b[0;31m---------------------------------------------------------------------------\u001b[0m",
      "\u001b[0;31mKeyboardInterrupt\u001b[0m                         Traceback (most recent call last)",
      "\u001b[0;32m<timed exec>\u001b[0m in \u001b[0;36m<module>\u001b[0;34m()\u001b[0m\n",
      "\u001b[0;32m~/PycharmProjects/github/pytorch-textclassification/ModelHandler.py\u001b[0m in \u001b[0;36mfit\u001b[0;34m(self, train_iter, loss_fn, optimizer, modelPath, val_iter, early_stopping_rounds, verbose)\u001b[0m\n\u001b[1;32m     77\u001b[0m                 \u001b[0mself\u001b[0m\u001b[0;34m.\u001b[0m\u001b[0mtrain\u001b[0m\u001b[0;34m(\u001b[0m\u001b[0;34m)\u001b[0m\u001b[0;34m\u001b[0m\u001b[0;34m\u001b[0m\u001b[0m\n\u001b[1;32m     78\u001b[0m                 \u001b[0mtorch\u001b[0m\u001b[0;34m.\u001b[0m\u001b[0mset_grad_enabled\u001b[0m\u001b[0;34m(\u001b[0m\u001b[0;32mTrue\u001b[0m\u001b[0;34m)\u001b[0m\u001b[0;34m\u001b[0m\u001b[0;34m\u001b[0m\u001b[0m\n\u001b[0;32m---> 79\u001b[0;31m                 \u001b[0mloss\u001b[0m\u001b[0;34m.\u001b[0m\u001b[0mbackward\u001b[0m\u001b[0;34m(\u001b[0m\u001b[0;34m)\u001b[0m\u001b[0;34m\u001b[0m\u001b[0;34m\u001b[0m\u001b[0m\n\u001b[0m\u001b[1;32m     80\u001b[0m                 \u001b[0moptimizer\u001b[0m\u001b[0;34m.\u001b[0m\u001b[0mstep\u001b[0m\u001b[0;34m(\u001b[0m\u001b[0;34m)\u001b[0m\u001b[0;34m\u001b[0m\u001b[0;34m\u001b[0m\u001b[0m\n\u001b[1;32m     81\u001b[0m             \u001b[0;32mif\u001b[0m \u001b[0mverbose\u001b[0m \u001b[0;34m==\u001b[0m \u001b[0;36m2\u001b[0m\u001b[0;34m:\u001b[0m\u001b[0;34m\u001b[0m\u001b[0;34m\u001b[0m\u001b[0m\n",
      "\u001b[0;32m~/PycharmProjects/gitlab/new_env/virtualenv_folder/lib/python3.6/site-packages/torch/tensor.py\u001b[0m in \u001b[0;36mbackward\u001b[0;34m(self, gradient, retain_graph, create_graph)\u001b[0m\n\u001b[1;32m    105\u001b[0m                 \u001b[0mproducts\u001b[0m\u001b[0;34m.\u001b[0m \u001b[0mDefaults\u001b[0m \u001b[0mto\u001b[0m\u001b[0;31m \u001b[0m\u001b[0;31m`\u001b[0m\u001b[0;31m`\u001b[0m\u001b[0;32mFalse\u001b[0m\u001b[0;31m`\u001b[0m\u001b[0;31m`\u001b[0m\u001b[0;34m.\u001b[0m\u001b[0;34m\u001b[0m\u001b[0;34m\u001b[0m\u001b[0m\n\u001b[1;32m    106\u001b[0m         \"\"\"\n\u001b[0;32m--> 107\u001b[0;31m         \u001b[0mtorch\u001b[0m\u001b[0;34m.\u001b[0m\u001b[0mautograd\u001b[0m\u001b[0;34m.\u001b[0m\u001b[0mbackward\u001b[0m\u001b[0;34m(\u001b[0m\u001b[0mself\u001b[0m\u001b[0;34m,\u001b[0m \u001b[0mgradient\u001b[0m\u001b[0;34m,\u001b[0m \u001b[0mretain_graph\u001b[0m\u001b[0;34m,\u001b[0m \u001b[0mcreate_graph\u001b[0m\u001b[0;34m)\u001b[0m\u001b[0;34m\u001b[0m\u001b[0;34m\u001b[0m\u001b[0m\n\u001b[0m\u001b[1;32m    108\u001b[0m \u001b[0;34m\u001b[0m\u001b[0m\n\u001b[1;32m    109\u001b[0m     \u001b[0;32mdef\u001b[0m \u001b[0mregister_hook\u001b[0m\u001b[0;34m(\u001b[0m\u001b[0mself\u001b[0m\u001b[0;34m,\u001b[0m \u001b[0mhook\u001b[0m\u001b[0;34m)\u001b[0m\u001b[0;34m:\u001b[0m\u001b[0;34m\u001b[0m\u001b[0;34m\u001b[0m\u001b[0m\n",
      "\u001b[0;32m~/PycharmProjects/gitlab/new_env/virtualenv_folder/lib/python3.6/site-packages/torch/autograd/__init__.py\u001b[0m in \u001b[0;36mbackward\u001b[0;34m(tensors, grad_tensors, retain_graph, create_graph, grad_variables)\u001b[0m\n\u001b[1;32m     91\u001b[0m     Variable._execution_engine.run_backward(\n\u001b[1;32m     92\u001b[0m         \u001b[0mtensors\u001b[0m\u001b[0;34m,\u001b[0m \u001b[0mgrad_tensors\u001b[0m\u001b[0;34m,\u001b[0m \u001b[0mretain_graph\u001b[0m\u001b[0;34m,\u001b[0m \u001b[0mcreate_graph\u001b[0m\u001b[0;34m,\u001b[0m\u001b[0;34m\u001b[0m\u001b[0;34m\u001b[0m\u001b[0m\n\u001b[0;32m---> 93\u001b[0;31m         allow_unreachable=True)  # allow_unreachable flag\n\u001b[0m\u001b[1;32m     94\u001b[0m \u001b[0;34m\u001b[0m\u001b[0m\n\u001b[1;32m     95\u001b[0m \u001b[0;34m\u001b[0m\u001b[0m\n",
      "\u001b[0;31mKeyboardInterrupt\u001b[0m: "
     ]
    }
   ],
   "source": [
    "%%time\n",
    "# seed_everything()\n",
    "\n",
    "train_batch_size, val_batch_size = 2**7, 2**7\n",
    "\n",
    "pretrained_embeddings = text_field.vocab.vectors\n",
    "\n",
    "# model = Enet(pretrained_embeddings)\n",
    "model = TextCNN(100,100,[3,4,5],2,pretrained_embeddings)\n",
    "\n",
    "# embedding_dim = 100\n",
    "# output_dim = 2\n",
    "# hidden_size = 50\n",
    "# num_layers=5\n",
    "# bidirectional = True\n",
    "# model = TextRNN(embedding_dim,output_dim,hidden_size,num_layers,bidirectional,pretrained_embeddings)\n",
    "\n",
    "modelHandlerParams = {}\n",
    "modelHandlerParams['epoch_num'] = 1000000\n",
    "modelHandlerParams['train_batch_size'] = train_batch_size\n",
    "modelHandlerParams['val_batch_size'] = val_batch_size\n",
    "modelHandlerParams['device'] = device\n",
    "\n",
    "modelHandlerParams['model'] = model\n",
    "modelHandler = ModelHandler(modelHandlerParams)\n",
    "\n",
    "# 二分类交叉熵\n",
    "loss_fn = nn.BCEWithLogitsLoss().to(device)\n",
    "# 调参地方，分别调整为0.1,0.01,0.001，最优为0.01\n",
    "optimizer = optim.Adam(model.parameters(), lr=0.01,\n",
    "                       weight_decay=0.00001) # lr sets the learning rate of the optimizer\n",
    "\n",
    "modelHandler.fit(train_iter=train_iter, val_iter=dev_iter,loss_fn=loss_fn,optimizer=optimizer,\n",
    "                 early_stopping_rounds=10, verbose=2)"
   ]
  },
  {
   "cell_type": "code",
   "execution_count": null,
   "metadata": {
    "collapsed": true
   },
   "outputs": [],
   "source": []
  },
  {
   "cell_type": "code",
   "execution_count": null,
   "metadata": {
    "collapsed": true
   },
   "outputs": [],
   "source": []
  },
  {
   "cell_type": "code",
   "execution_count": null,
   "metadata": {
    "collapsed": true
   },
   "outputs": [],
   "source": []
  },
  {
   "cell_type": "code",
   "execution_count": null,
   "metadata": {
    "collapsed": true
   },
   "outputs": [],
   "source": []
  },
  {
   "cell_type": "code",
   "execution_count": null,
   "metadata": {
    "collapsed": true
   },
   "outputs": [],
   "source": []
  }
 ],
 "metadata": {
  "kernelspec": {
   "display_name": "Python 3",
   "language": "python",
   "name": "python3"
  },
  "language_info": {
   "codemirror_mode": {
    "name": "ipython",
    "version": 3
   },
   "file_extension": ".py",
   "mimetype": "text/x-python",
   "name": "python",
   "nbconvert_exporter": "python",
   "pygments_lexer": "ipython3",
   "version": "3.6.6+"
  },
  "toc": {
   "base_numbering": 1,
   "nav_menu": {},
   "number_sections": true,
   "sideBar": true,
   "skip_h1_title": false,
   "title_cell": "Table of Contents",
   "title_sidebar": "Contents",
   "toc_cell": false,
   "toc_position": {
    "height": "calc(100% - 180px)",
    "left": "10px",
    "top": "150px",
    "width": "200px"
   },
   "toc_section_display": true,
   "toc_window_display": true
  }
 },
 "nbformat": 4,
 "nbformat_minor": 2
}
