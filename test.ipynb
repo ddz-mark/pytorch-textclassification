{
 "cells": [
  {
   "cell_type": "code",
   "execution_count": 5,
   "metadata": {
    "collapsed": true
   },
   "outputs": [],
   "source": [
    "import torch\n",
    "from torch import nn\n",
    "import torch.nn.utils.rnn as rnn_utils\n",
    "from torch.utils.data import DataLoader\n",
    "import torch.utils.data as data\n"
   ]
  },
  {
   "cell_type": "code",
   "execution_count": 1,
   "metadata": {},
   "outputs": [
    {
     "name": "stdout",
     "output_type": "stream",
     "text": [
      "torch.Size([1, 5, 8]) tensor([[[ 0.0537, -0.0350,  0.1042, -0.0328, -0.1256,  0.3089,  0.2376,\n",
      "           0.0594],\n",
      "         [ 0.0811, -0.0454,  0.1583, -0.0627, -0.1226,  0.3159,  0.2177,\n",
      "           0.0692],\n",
      "         [ 0.0998, -0.0501,  0.1813, -0.0826, -0.1090,  0.3149,  0.1845,\n",
      "           0.0602],\n",
      "         [ 0.1181, -0.0558,  0.1880, -0.0942, -0.0875,  0.2982,  0.1353,\n",
      "           0.0370],\n",
      "         [ 0.1308, -0.0639,  0.1865, -0.1007, -0.0545,  0.2397,  0.0677,\n",
      "           0.0077]]], grad_fn=<TransposeBackward0>)\n",
      "torch.Size([6, 1, 4]) tensor([[[ 0.0323, -0.0563, -0.1411,  0.1248]],\n",
      "\n",
      "        [[-0.3028, -0.0086,  0.0959,  0.4024]],\n",
      "\n",
      "        [[-0.3394,  0.0367, -0.0657, -0.0872]],\n",
      "\n",
      "        [[ 0.0901, -0.0560, -0.0368, -0.0956]],\n",
      "\n",
      "        [[ 0.1308, -0.0639,  0.1865, -0.1007]],\n",
      "\n",
      "        [[-0.1256,  0.3089,  0.2376,  0.0594]]], grad_fn=<StackBackward>)\n",
      "tensor([[ 0.1308, -0.0639,  0.1865, -0.1007]], grad_fn=<SliceBackward>)\n",
      "tensor([[ 0.1308, -0.0639,  0.1865, -0.1007, -0.1256,  0.3089,  0.2376,  0.0594]],\n",
      "       grad_fn=<CatBackward>)\n"
     ]
    }
   ],
   "source": [
    "## 验证 hn 的最后两层：倒数第二层是正向的最后一次输出，倒数第一层是反向的最后一次输出\n",
    "\n",
    "import torch\n",
    "import torch.nn as nn\n",
    " \n",
    "net=nn.LSTM(3,4,3,bidirectional=True,batch_first=True) \n",
    "\n",
    "x=torch.rand(1,5,3)    # 序列长度为5，输入尺度为3\n",
    " \n",
    "output,(hn,cn)=net(x)\n",
    "print(output.shape,output)\n",
    "print(hn.shape,hn)\n",
    "print(hn[-2,:,:])\n",
    "out = torch.cat((hn[-2,:,:], hn[-1,:,:]), dim=1)\n",
    "print(out)\n",
    "# print(cn.shape,cn)"
   ]
  },
  {
   "cell_type": "code",
   "execution_count": 3,
   "metadata": {},
   "outputs": [
    {
     "name": "stdout",
     "output_type": "stream",
     "text": [
      "torch.Size([2, 1, 5])\n",
      "torch.Size([2, 1, 5])\n",
      "torch.Size([5, 10]) torch.Size([5, 5])\n",
      "torch.Size([5, 5]) torch.Size([5, 5])\n"
     ]
    }
   ],
   "source": [
    "# 验证 RNN 的隐藏层的shape，input层和中间层的不一样\n",
    "\n",
    "# input_size, hidden_size, num_layers\n",
    "rnn = nn.RNN(10, 5, 2)\n",
    "\n",
    "inputR = torch.randn(2, 1, 10)\n",
    "\n",
    "h0 = torch.randn(2, 1, 5)\n",
    "\n",
    "output, hn = rnn(inputR, h0)\n",
    "print(output.shape)\n",
    "print(hn.shape)\n",
    "\n",
    "print(rnn.weight_ih_l0.data.shape,rnn.weight_hh_l0.data.shape)\n",
    "print(rnn.weight_ih_l1.data.shape,rnn.weight_hh_l1.data.shape)"
   ]
  },
  {
   "cell_type": "code",
   "execution_count": 48,
   "metadata": {},
   "outputs": [
    {
     "name": "stdout",
     "output_type": "stream",
     "text": [
      "[7, 6, 5, 4, 3, 2, 1]\n",
      "torch.Size([7, 7])\n",
      "torch.Size([7, 7, 1])\n",
      "torch.Size([2, 7, 10])\n",
      "torch.Size([7, 7, 10]) tensor([7, 6, 5, 4, 3, 2, 1])\n"
     ]
    }
   ],
   "source": [
    "# 验证函数 pad_sequence、pack_padded_sequence、pad_packed_sequence\n",
    "train_x = [torch.Tensor([1, 1, 1, 1, 1, 1, 1]),\n",
    "           torch.Tensor([2, 2, 2, 2, 2, 2]),\n",
    "           torch.Tensor([3, 3, 3, 3, 3]),\n",
    "           torch.Tensor([4, 4, 4, 4]),\n",
    "           torch.Tensor([5, 5, 5]),\n",
    "           torch.Tensor([6, 6]),\n",
    "           torch.Tensor([7])]\n",
    "\n",
    "# 1.pad_sequence 对数据进行填充，默认为0\n",
    "data_length = [len(sq) for sq in train_x]\n",
    "print(data_length)\n",
    "x = rnn_utils.pad_sequence(train_x, batch_first=True, padding_value=0)\n",
    "print(x.shape)\n",
    "x=x.unsqueeze(-1)\n",
    "print(x.shape)\n",
    "# 2.对 0 的部分进行压缩\n",
    "batch_x_pack = rnn_utils.pack_padded_sequence(x, data_length, batch_first=True)\n",
    "# print( batch_x_pack)\n",
    "\n",
    "net = nn.LSTM(1, 10, 2, batch_first=True)\n",
    "out, (hn, cn) = net(batch_x_pack)\n",
    "\n",
    "print(hn.shape)\n",
    "out_pad, out_len = rnn_utils.pad_packed_sequence(out, batch_first=True)\n",
    "\n",
    "print(out_pad.shape,out_len)"
   ]
  },
  {
   "cell_type": "code",
   "execution_count": 60,
   "metadata": {},
   "outputs": [
    {
     "name": "stdout",
     "output_type": "stream",
     "text": [
      "tensor([1., 2.])\n",
      "tensor([1., 2.], requires_grad=True)\n"
     ]
    }
   ],
   "source": [
    "# tensor 与 Tensor 的区别\n",
    "\n",
    "print(torch.FloatTensor([1,2]))\n",
    "print(torch.tensor([1.0,2],requires_grad=True))\n"
   ]
  },
  {
   "cell_type": "code",
   "execution_count": 78,
   "metadata": {},
   "outputs": [
    {
     "name": "stdout",
     "output_type": "stream",
     "text": [
      "[1] 1\n"
     ]
    },
    {
     "ename": "ValueError",
     "evalue": "Classification metrics can't handle a mix of binary and continuous targets",
     "output_type": "error",
     "traceback": [
      "\u001b[0;31m---------------------------------------------------------------------------\u001b[0m",
      "\u001b[0;31mValueError\u001b[0m                                Traceback (most recent call last)",
      "\u001b[0;32m<ipython-input-78-c3138f37edec>\u001b[0m in \u001b[0;36m<module>\u001b[0;34m()\u001b[0m\n\u001b[1;32m     14\u001b[0m \u001b[0my_true\u001b[0m \u001b[0;34m=\u001b[0m \u001b[0mnp\u001b[0m\u001b[0;34m.\u001b[0m\u001b[0marray\u001b[0m\u001b[0;34m(\u001b[0m\u001b[0;34m[\u001b[0m\u001b[0;36m1\u001b[0m\u001b[0;34m,\u001b[0m\u001b[0;36m1\u001b[0m\u001b[0;34m,\u001b[0m\u001b[0;36m1\u001b[0m\u001b[0;34m,\u001b[0m\u001b[0;36m1\u001b[0m\u001b[0;34m]\u001b[0m\u001b[0;34m)\u001b[0m\u001b[0;34m\u001b[0m\u001b[0;34m\u001b[0m\u001b[0m\n\u001b[1;32m     15\u001b[0m \u001b[0my_scores\u001b[0m \u001b[0;34m=\u001b[0m \u001b[0mnp\u001b[0m\u001b[0;34m.\u001b[0m\u001b[0marray\u001b[0m\u001b[0;34m(\u001b[0m\u001b[0;34m[\u001b[0m\u001b[0;36m0.1\u001b[0m\u001b[0;34m,\u001b[0m\u001b[0;36m1\u001b[0m\u001b[0;34m,\u001b[0m\u001b[0;36m1\u001b[0m\u001b[0;34m,\u001b[0m\u001b[0;36m0\u001b[0m\u001b[0;34m]\u001b[0m\u001b[0;34m)\u001b[0m\u001b[0;34m\u001b[0m\u001b[0;34m\u001b[0m\u001b[0m\n\u001b[0;32m---> 16\u001b[0;31m \u001b[0mroc_auc_score_FIXED\u001b[0m\u001b[0;34m(\u001b[0m\u001b[0my_true\u001b[0m\u001b[0;34m,\u001b[0m \u001b[0my_scores\u001b[0m\u001b[0;34m)\u001b[0m\u001b[0;34m\u001b[0m\u001b[0;34m\u001b[0m\u001b[0m\n\u001b[0m\u001b[1;32m     17\u001b[0m \u001b[0;34m\u001b[0m\u001b[0m\n\u001b[1;32m     18\u001b[0m \u001b[0;31m# A = [[1, 2], [3, 4], [5, 6], [1, 2]]\u001b[0m\u001b[0;34m\u001b[0m\u001b[0;34m\u001b[0m\u001b[0;34m\u001b[0m\u001b[0m\n",
      "\u001b[0;32m<ipython-input-78-c3138f37edec>\u001b[0m in \u001b[0;36mroc_auc_score_FIXED\u001b[0;34m(y_true, y_pred)\u001b[0m\n\u001b[1;32m      8\u001b[0m     \u001b[0mprint\u001b[0m\u001b[0;34m(\u001b[0m\u001b[0ma\u001b[0m\u001b[0;34m,\u001b[0m \u001b[0mlen\u001b[0m\u001b[0;34m(\u001b[0m\u001b[0ma\u001b[0m\u001b[0;34m)\u001b[0m\u001b[0;34m)\u001b[0m\u001b[0;34m\u001b[0m\u001b[0;34m\u001b[0m\u001b[0m\n\u001b[1;32m      9\u001b[0m     \u001b[0;32mif\u001b[0m \u001b[0mlen\u001b[0m\u001b[0;34m(\u001b[0m\u001b[0ma\u001b[0m\u001b[0;34m)\u001b[0m \u001b[0;34m==\u001b[0m \u001b[0;36m1\u001b[0m\u001b[0;34m:\u001b[0m \u001b[0;31m# bug in roc_auc_score\u001b[0m\u001b[0;34m\u001b[0m\u001b[0;34m\u001b[0m\u001b[0m\n\u001b[0;32m---> 10\u001b[0;31m         \u001b[0;32mreturn\u001b[0m \u001b[0maccuracy_score\u001b[0m\u001b[0;34m(\u001b[0m\u001b[0my_true\u001b[0m\u001b[0;34m,\u001b[0m \u001b[0;34m(\u001b[0m\u001b[0my_pred\u001b[0m\u001b[0;34m)\u001b[0m\u001b[0;34m)\u001b[0m\u001b[0;34m\u001b[0m\u001b[0;34m\u001b[0m\u001b[0m\n\u001b[0m\u001b[1;32m     11\u001b[0m     \u001b[0;32mreturn\u001b[0m \u001b[0mroc_auc_score\u001b[0m\u001b[0;34m(\u001b[0m\u001b[0my_true\u001b[0m\u001b[0;34m,\u001b[0m \u001b[0my_pred\u001b[0m\u001b[0;34m)\u001b[0m\u001b[0;34m\u001b[0m\u001b[0;34m\u001b[0m\u001b[0m\n\u001b[1;32m     12\u001b[0m \u001b[0;34m\u001b[0m\u001b[0m\n",
      "\u001b[0;32m~/PycharmProjects/gitlab/new_env/virtualenv_folder/lib/python3.6/site-packages/sklearn/metrics/_classification.py\u001b[0m in \u001b[0;36maccuracy_score\u001b[0;34m(y_true, y_pred, normalize, sample_weight)\u001b[0m\n\u001b[1;32m    183\u001b[0m \u001b[0;34m\u001b[0m\u001b[0m\n\u001b[1;32m    184\u001b[0m     \u001b[0;31m# Compute accuracy for each possible representation\u001b[0m\u001b[0;34m\u001b[0m\u001b[0;34m\u001b[0m\u001b[0;34m\u001b[0m\u001b[0m\n\u001b[0;32m--> 185\u001b[0;31m     \u001b[0my_type\u001b[0m\u001b[0;34m,\u001b[0m \u001b[0my_true\u001b[0m\u001b[0;34m,\u001b[0m \u001b[0my_pred\u001b[0m \u001b[0;34m=\u001b[0m \u001b[0m_check_targets\u001b[0m\u001b[0;34m(\u001b[0m\u001b[0my_true\u001b[0m\u001b[0;34m,\u001b[0m \u001b[0my_pred\u001b[0m\u001b[0;34m)\u001b[0m\u001b[0;34m\u001b[0m\u001b[0;34m\u001b[0m\u001b[0m\n\u001b[0m\u001b[1;32m    186\u001b[0m     \u001b[0mcheck_consistent_length\u001b[0m\u001b[0;34m(\u001b[0m\u001b[0my_true\u001b[0m\u001b[0;34m,\u001b[0m \u001b[0my_pred\u001b[0m\u001b[0;34m,\u001b[0m \u001b[0msample_weight\u001b[0m\u001b[0;34m)\u001b[0m\u001b[0;34m\u001b[0m\u001b[0;34m\u001b[0m\u001b[0m\n\u001b[1;32m    187\u001b[0m     \u001b[0;32mif\u001b[0m \u001b[0my_type\u001b[0m\u001b[0;34m.\u001b[0m\u001b[0mstartswith\u001b[0m\u001b[0;34m(\u001b[0m\u001b[0;34m'multilabel'\u001b[0m\u001b[0;34m)\u001b[0m\u001b[0;34m:\u001b[0m\u001b[0;34m\u001b[0m\u001b[0;34m\u001b[0m\u001b[0m\n",
      "\u001b[0;32m~/PycharmProjects/gitlab/new_env/virtualenv_folder/lib/python3.6/site-packages/sklearn/metrics/_classification.py\u001b[0m in \u001b[0;36m_check_targets\u001b[0;34m(y_true, y_pred)\u001b[0m\n\u001b[1;32m     88\u001b[0m     \u001b[0;32mif\u001b[0m \u001b[0mlen\u001b[0m\u001b[0;34m(\u001b[0m\u001b[0my_type\u001b[0m\u001b[0;34m)\u001b[0m \u001b[0;34m>\u001b[0m \u001b[0;36m1\u001b[0m\u001b[0;34m:\u001b[0m\u001b[0;34m\u001b[0m\u001b[0;34m\u001b[0m\u001b[0m\n\u001b[1;32m     89\u001b[0m         raise ValueError(\"Classification metrics can't handle a mix of {0} \"\n\u001b[0;32m---> 90\u001b[0;31m                          \"and {1} targets\".format(type_true, type_pred))\n\u001b[0m\u001b[1;32m     91\u001b[0m \u001b[0;34m\u001b[0m\u001b[0m\n\u001b[1;32m     92\u001b[0m     \u001b[0;31m# We can't have more than one value on y_type => The set is no more needed\u001b[0m\u001b[0;34m\u001b[0m\u001b[0;34m\u001b[0m\u001b[0;34m\u001b[0m\u001b[0m\n",
      "\u001b[0;31mValueError\u001b[0m: Classification metrics can't handle a mix of binary and continuous targets"
     ]
    }
   ],
   "source": [
    "# 复现 bug\n",
    "import numpy as np\n",
    "from sklearn.metrics import roc_auc_score,accuracy_score\n",
    "\n",
    "def roc_auc_score_FIXED(y_true, y_pred):\n",
    "#     a, _, _ = np.unique(y_true.view(y_true.dtype.descr * y_true.shape[1]), return_index=True, return_inverse=True)\n",
    "    a = np.unique(y_true)\n",
    "    print(a, len(a))\n",
    "    if len(a) == 1: # bug in roc_auc_score\n",
    "        return accuracy_score(y_true, (y_pred))\n",
    "    return roc_auc_score(y_true, y_pred)\n",
    "\n",
    "\n",
    "y_true = np.array([1,1,1,1])\n",
    "y_scores = np.array([0.1,1,1,0])\n",
    "roc_auc_score_FIXED(y_true, y_scores)\n",
    "\n",
    "# A = [[1, 2], [3, 4], [5, 6], [1, 2]]\n",
    "# A = np.array(A)   #列表类型需转为数组类型\n",
    "# a, _, _ = np.unique(A.view(A.dtype.descr * A.shape[1]), return_index=True, return_inverse=True)\n",
    "# print(a)     #输出为 [(1, 2) (3, 4) (5, 6)], [0 1 2], [0 1 2 0]s"
   ]
  },
  {
   "cell_type": "code",
   "execution_count": 59,
   "metadata": {},
   "outputs": [
    {
     "name": "stdout",
     "output_type": "stream",
     "text": [
      "  产品  数量\n",
      "0  A  50\n",
      "1  A  50\n",
      "2  A  30\n",
      "3  A  30\n",
      "  产品  数量\n",
      "0  A  50\n",
      "1  A  30\n"
     ]
    }
   ],
   "source": [
    "import pandas as pd\n",
    "import numpy as np\n",
    "\n",
    "# 去重\n",
    "data=pd.DataFrame({'产品':['A','A','A','A'],'数量':[50,50,30,30]})\n",
    "print(data)\n",
    "\n",
    "print(data.drop_duplicates(['数量']).reset_index(drop=True))"
   ]
  },
  {
   "cell_type": "code",
   "execution_count": 65,
   "metadata": {},
   "outputs": [
    {
     "name": "stdout",
     "output_type": "stream",
     "text": [
      "['At', 'eight', \"o'clock\", 'on', 'Thursday', 'morning', 'Arthur', 'did', \"n't\", 'feel', 'very', 'good', '.']\n",
      "0\n",
      "8\n",
      "9\n"
     ]
    }
   ],
   "source": [
    "# 英文分词\n",
    "import nltk\n",
    "sentence = \"At eight o'clock on Thursday morning Arthur didn't feel very good.\"\n",
    "tokens = nltk.word_tokenize(sentence)\n",
    "print(tokens)\n",
    "\n",
    "a = 89\n",
    "\n",
    "print(a//100%10) # 百位数\n",
    "print(a//10%10) # 十位数\n",
    "print(a//1%10) # 个位数"
   ]
  },
  {
   "cell_type": "code",
   "execution_count": 72,
   "metadata": {},
   "outputs": [
    {
     "name": "stdout",
     "output_type": "stream",
     "text": [
      "tensor([[0.0000e+00, 0.0000e+00, 0.0000e+00, 0.0000e+00, 0.0000e+00],\n",
      "        [0.0000e+00, 1.5835e-43, 0.0000e+00, 1.3452e-43, 0.0000e+00],\n",
      "        [1.3452e-43, 0.0000e+00, 0.0000e+00, 0.0000e+00, 1.9346e-19]])\n",
      "tensor([[0, 0, 0, 0, 0],\n",
      "        [0, 0, 0, 0, 0],\n",
      "        [0, 0, 0, 0, 0]])\n",
      "tensor([[0., 0., 0., 0., 0.],\n",
      "        [0., 0., 0., 0., 0.],\n",
      "        [0., 0., 0., 0., 0.]])\n"
     ]
    }
   ],
   "source": [
    "import torch\n",
    "tensor = torch.Tensor(3, 5)\n",
    "print(tensor)\n",
    "# torch.long() 将tensor投射为long类型\n",
    "newtensor = tensor.long()\n",
    "print(newtensor)\n",
    "newtensor = newtensor.float()\n",
    "print(newtensor)"
   ]
  },
  {
   "cell_type": "code",
   "execution_count": 83,
   "metadata": {},
   "outputs": [
    {
     "name": "stdout",
     "output_type": "stream",
     "text": [
      "1\n",
      "[1]\n",
      "[0 0 0]\n"
     ]
    }
   ],
   "source": [
    "a= np.array([[1],[2],[1]])\n",
    "print(np.argmax(a))\n",
    "print(np.argmax(a, axis=0))#0代表列\n",
    "print(np.argmax(a, axis=1))#1代表行"
   ]
  },
  {
   "cell_type": "code",
   "execution_count": null,
   "metadata": {
    "collapsed": true
   },
   "outputs": [],
   "source": []
  },
  {
   "cell_type": "code",
   "execution_count": null,
   "metadata": {
    "collapsed": true
   },
   "outputs": [],
   "source": []
  }
 ],
 "metadata": {
  "kernelspec": {
   "display_name": "Python 3",
   "language": "python",
   "name": "python3"
  },
  "language_info": {
   "codemirror_mode": {
    "name": "ipython",
    "version": 3
   },
   "file_extension": ".py",
   "mimetype": "text/x-python",
   "name": "python",
   "nbconvert_exporter": "python",
   "pygments_lexer": "ipython3",
   "version": "3.6.6+"
  },
  "toc": {
   "base_numbering": 1,
   "nav_menu": {},
   "number_sections": true,
   "sideBar": true,
   "skip_h1_title": false,
   "title_cell": "Table of Contents",
   "title_sidebar": "Contents",
   "toc_cell": false,
   "toc_position": {},
   "toc_section_display": true,
   "toc_window_display": false
  }
 },
 "nbformat": 4,
 "nbformat_minor": 2
}
