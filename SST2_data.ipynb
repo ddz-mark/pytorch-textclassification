{
 "cells": [
  {
   "cell_type": "markdown",
   "metadata": {},
   "source": [
    "# 导库"
   ]
  },
  {
   "cell_type": "code",
   "execution_count": 21,
   "metadata": {},
   "outputs": [],
   "source": [
    "import torch\n",
    "import torch.optim as optim\n",
    "import torch.nn as nn\n",
    "import torch.nn.functional as F\n",
    "\n",
    "from torchtext import data\n",
    "from torchtext import datasets\n",
    "from torchtext import vocab\n",
    "\n",
    "from tqdm import tqdm\n",
    "\n",
    "import pandas as pd\n",
    "import numpy as np\n",
    "import random\n",
    "\n",
    "import os\n",
    "\n",
    "from sklearn.metrics import roc_auc_score\n"
   ]
  },
  {
   "cell_type": "code",
   "execution_count": 2,
   "metadata": {
    "collapsed": true
   },
   "outputs": [],
   "source": [
    "def seed_everything(seed=2019):\n",
    "    '''\n",
    "    设置随机种子，最好在训练的时候调用\n",
    "    '''\n",
    "    random.seed(seed)\n",
    "    os.environ['PYTHONHASHSEED'] = str(seed)\n",
    "    np.random.seed(seed)\n",
    "    torch.manual_seed(seed)\n",
    "    torch.cuda.manual_seed(seed)\n",
    "    torch.backends.cudnn.deterministic = True\n",
    "    \n",
    "def get_device():\n",
    "    device = torch.device(\"cuda:0\" if torch.cuda.is_available() else \"cpu\")\n",
    "    n_gpu = torch.cuda.device_count()\n",
    "    if torch.cuda.is_available():\n",
    "        print(\"device is cuda, # cuda is: \", n_gpu)\n",
    "    else:\n",
    "        print(\"device is cpu, not recommend\")\n",
    "    return device, n_gpu"
   ]
  },
  {
   "cell_type": "code",
   "execution_count": 4,
   "metadata": {},
   "outputs": [
    {
     "name": "stdout",
     "output_type": "stream",
     "text": [
      "device is cpu, not recommend\n",
      "cpu\n"
     ]
    }
   ],
   "source": [
    "DEVICE, n_gpu = get_device()\n",
    "print(DEVICE)"
   ]
  },
  {
   "cell_type": "markdown",
   "metadata": {},
   "source": [
    "# 数据预处理"
   ]
  },
  {
   "cell_type": "code",
   "execution_count": 5,
   "metadata": {},
   "outputs": [
    {
     "name": "stdout",
     "output_type": "stream",
     "text": [
      "(67349, 2)\n",
      "(872, 2)\n",
      "(1821, 2)\n"
     ]
    }
   ],
   "source": [
    "BASE_PATH = \"/home/dudaizhong/Downloads/SST-2/\"\n",
    "train_pd = pd.read_csv(BASE_PATH+'train.tsv', sep='\\t')\n",
    "dev_pd = pd.read_csv(BASE_PATH + 'dev.tsv', sep='\\t')\n",
    "test_pd = pd.read_csv(BASE_PATH + 'test.tsv', sep='\\t')\n",
    "\n",
    "print(train_pd.shape)\n",
    "print(dev_pd.shape)\n",
    "print(test_pd.shape)"
   ]
  },
  {
   "cell_type": "markdown",
   "metadata": {},
   "source": [
    "## 定义 Field"
   ]
  },
  {
   "cell_type": "code",
   "execution_count": 6,
   "metadata": {
    "collapsed": true
   },
   "outputs": [],
   "source": [
    "# 1. 定义 Field\n",
    "\n",
    "text_field = data.Field(tokenize='spacy', lower=True, fix_length=40, batch_first=True)\n",
    "label_field = data.LabelField(dtype=torch.long)\n"
   ]
  },
  {
   "cell_type": "markdown",
   "metadata": {},
   "source": [
    "## 定义 DataSet"
   ]
  },
  {
   "cell_type": "code",
   "execution_count": 7,
   "metadata": {},
   "outputs": [
    {
     "name": "stdout",
     "output_type": "stream",
     "text": [
      "the size of train: 67349, dev:872, test:1821\n"
     ]
    }
   ],
   "source": [
    "# 2. 定义 DataSet\n",
    "\n",
    "train, dev = data.TabularDataset.splits(\n",
    "        path=BASE_PATH, train='train.tsv', validation='dev.tsv',format='tsv', skip_header=True,\n",
    "        fields=[('text', text_field), ('label', label_field)])\n",
    "\n",
    "# 这里需要注意单独处理的时候不能用 splits 方法。\n",
    "test = data.TabularDataset(BASE_PATH+'test.tsv', format='tsv', skip_header=True,\n",
    "        fields=[('index', label_field), ('text', text_field)])\n",
    "\n",
    "print(\"the size of train: {}, dev:{}, test:{}\".format(\n",
    "    len(train), len(dev), len(test)))\n"
   ]
  },
  {
   "cell_type": "code",
   "execution_count": 8,
   "metadata": {},
   "outputs": [
    {
     "name": "stdout",
     "output_type": "stream",
     "text": [
      "['contains', 'no', 'wit', ',', 'only', 'labored', 'gags'] 0\n",
      "['unflinchingly', 'bleak', 'and', 'desperate'] 0\n",
      "['this', 'film', \"'s\", 'relationship', 'to', 'actual', 'tension', 'is', 'the', 'same', 'as', 'what', 'christmas', '-', 'tree', 'flocking', 'in', 'a', 'spray', 'can', 'is', 'to', 'actual', 'snow', ':', 'a', 'poor', '--', 'if', 'durable', '--', 'imitation', '.']\n"
     ]
    }
   ],
   "source": [
    "# 查看 Example\n",
    "print(train[1].text, train[1].label)\n",
    "\n",
    "print(dev[1].text, dev[1].label)\n",
    "\n",
    "print(test[1].text)"
   ]
  },
  {
   "cell_type": "markdown",
   "metadata": {},
   "source": [
    "## 建立 Vocab"
   ]
  },
  {
   "cell_type": "code",
   "execution_count": 9,
   "metadata": {
    "collapsed": true
   },
   "outputs": [],
   "source": [
    "# 3. 建立 vocab，大小是text_field里面的词数量\n",
    "# vectors = vocab.Vectors(embedding_file, cache_dir)\n",
    "\n",
    "text_field.build_vocab(\n",
    "        train, dev, test, max_size=25000,\n",
    "        vectors='glove.6B.100d', unk_init=torch.Tensor.normal_)\n",
    "\n",
    "label_field.build_vocab(train, dev, test)"
   ]
  },
  {
   "cell_type": "code",
   "execution_count": 10,
   "metadata": {},
   "outputs": [
    {
     "name": "stdout",
     "output_type": "stream",
     "text": [
      "16292\n",
      "1821\n"
     ]
    }
   ],
   "source": [
    "len_vocab = len(text_field.vocab)\n",
    "print(len_vocab)\n",
    "\n",
    "print(len(label_field.vocab))\n",
    "# for step, batch in enumerate(tqdm(train_iter, desc=\"Iteration\")):\n",
    "#     print(batch.text, batch.label)\n",
    "    "
   ]
  },
  {
   "cell_type": "markdown",
   "metadata": {},
   "source": [
    "## 构造 Iterater"
   ]
  },
  {
   "cell_type": "code",
   "execution_count": 11,
   "metadata": {},
   "outputs": [
    {
     "name": "stdout",
     "output_type": "stream",
     "text": [
      "the size of train_iter: 527, dev_iter:7, test_iter:1\n"
     ]
    }
   ],
   "source": [
    "# 4. 构造迭代器\n",
    "\n",
    "train_iter, dev_iter = data.BucketIterator.splits(\n",
    "        (train, dev), batch_sizes=(128, 128), sort_key=lambda x: len(x.text), \n",
    "        sort_within_batch=True, repeat=False, shuffle=True, device=DEVICE)\n",
    "\n",
    "# 同样单独处理的时候\n",
    "test_iter = data.Iterator(test, batch_size=len(test), train=False,\n",
    "                          sort=False, device=DEVICE)\n",
    "\n",
    "print(\"the size of train_iter: {}, dev_iter:{}, test_iter:{}\".format(\n",
    "    len(train_iter), len(dev_iter), len(test_iter)))"
   ]
  },
  {
   "cell_type": "code",
   "execution_count": 12,
   "metadata": {},
   "outputs": [
    {
     "name": "stdout",
     "output_type": "stream",
     "text": [
      "0 tensor([[ 3816,   145,     4,  ...,     1,     1,     1],\n",
      "        [    2,  1117,     6,  ...,     1,     1,     1],\n",
      "        [   70,    28, 12204,  ...,     1,     1,     1],\n",
      "        ...,\n",
      "        [ 3877,    12,     2,  ...,     1,     1,     1],\n",
      "        [   10,     4,   269,  ...,     1,     1,     1],\n",
      "        [   63,     2,   133,  ...,     1,     1,     1]]) tensor([0, 0, 1, 1, 1, 0, 0, 0, 1, 1, 0, 0, 1, 1, 1, 0, 0, 0, 0, 0, 1, 0, 0, 0,\n",
      "        0, 1, 0, 0, 0, 1, 0, 1, 1, 1, 1, 1, 1, 1, 1, 1, 1, 0, 1, 0, 1, 0, 0, 0,\n",
      "        0, 0, 0, 0, 0, 1, 1, 0, 0, 1, 1, 1, 1, 0, 1, 1, 0, 1, 0, 1, 0, 1, 1, 0,\n",
      "        1, 0, 0, 1, 0, 0, 0, 1, 1, 1, 1, 0, 0, 1, 1, 0, 0, 1, 0, 0, 1, 1, 0, 1,\n",
      "        1, 1, 0, 1, 0, 0, 0, 0, 0, 0, 1, 1, 0, 1, 1, 1, 1, 0, 0, 1, 1, 0, 0, 0,\n",
      "        1, 1, 0, 0, 0, 1, 0, 0])\n"
     ]
    }
   ],
   "source": [
    "# 查看 Iterater\n",
    "# seed_everything()\n",
    "for batch_idx, (X_train_var, y_train_var) in enumerate(train_iter):\n",
    "    print(batch_idx, X_train_var, y_train_var)\n",
    "    break\n"
   ]
  },
  {
   "cell_type": "markdown",
   "metadata": {},
   "source": [
    "# 网络结构"
   ]
  },
  {
   "cell_type": "code",
   "execution_count": 13,
   "metadata": {
    "collapsed": true
   },
   "outputs": [],
   "source": [
    "# 1.与维度变换相关函数 view()，permute()，size(), torch.squeeze() / torch.unsqueeze()\n",
    "# 2.Embedding层加载预训练模型的方式：1）copy，2）from_pretrained。\n",
    "\n",
    "class Enet(nn.Module):\n",
    "    def __init__(self,pretrained_embeddings):\n",
    "        super(Enet, self).__init__()\n",
    "#         self.embedding = nn.Embedding(len_vocab,100)\n",
    "        self.embedding = nn.Embedding.from_pretrained(\n",
    "            pretrained_embeddings, freeze=False)\n",
    "        # LSTM 参数以及输入输出说明：\n",
    "        # 结构参数：LSTM(input_size, hidden_size, num_layers)\n",
    "        # input_size:输入的特征数量\n",
    "        # hidden_size:隐藏的特征数量\n",
    "        # num_layers:层数\n",
    "        self.lstm = nn.LSTM(100,64,3,batch_first=True)#,bidirectional=True)\n",
    "        self.linear = nn.Linear(64,2)\n",
    "        \n",
    "    def forward(self, x):\n",
    "        batch_size,seq_num = x.shape\n",
    "#         print(x.shape) #(128,40)\n",
    "        vec = self.embedding(x)\n",
    "#         print(vec.shape) #(128,40,100)\n",
    "        out, (hn, cn) = self.lstm(vec)\n",
    "#         print(out.shape) #(128,40,64)\n",
    "        out = self.linear(out[:,-1,:])\n",
    "#         print(out.shape) #(128,2)\n",
    "        out = F.softmax(out,-1)\n",
    "        return out\n",
    "    "
   ]
  },
  {
   "cell_type": "markdown",
   "metadata": {},
   "source": [
    "# ModelHandler"
   ]
  },
  {
   "cell_type": "code",
   "execution_count": 22,
   "metadata": {},
   "outputs": [],
   "source": [
    "class ModelHandler(nn.Module):\n",
    "    def __init__(self, params):\n",
    "        super(ModelHandler, self).__init__()\n",
    "        self.device = params['device']\n",
    "        self.epoch_num = params['epoch_num']\n",
    "        self.train_batch_size = params['train_batch_size']\n",
    "        self.val_batch_size = params['val_batch_size']\n",
    "        self.model = params['model']\n",
    "        \n",
    "    def forward(self, x):\n",
    "        return self.model(x)\n",
    "    \n",
    "    def fit(self, train_iter, loss_fn, optimizer, modelPath=None,\n",
    "            dev_iter=None, early_stopping_rounds=None, verbose=2):\n",
    "        '''\n",
    "        early_stopping_rounds：是否使用 early_stop 来防止过拟合\n",
    "        verbose：2分类还是多分类\n",
    "        '''\n",
    "        \n",
    "        if early_stopping_rounds != None:\n",
    "            # 用来计数多少epoch在验证集上的结果没有改进了\n",
    "            count = 0\n",
    "\n",
    "        batch_size = self.train_batch_size\n",
    "        batchNumInEveryEpoch = len(train_iter)\n",
    "        \n",
    "        epochNums = self.epoch_num\n",
    "        best_val_acc = -1000000\n",
    "        best_val_loss = 1000000\n",
    "        \n",
    "        num = 0\n",
    "        for epoch in range(epochNums):\n",
    "            print ('************************* epoch:', epoch, '*************************')\n",
    "            \n",
    "            self.train()\n",
    "            torch.set_grad_enabled(True)\n",
    "\n",
    "            # 随机化数据\n",
    "#             randPermNums = np.random.permutation(trainDataNum)\n",
    "#             X_train = X_train[randPermNums]\n",
    "#             y_train = np.array(y_train)[randPermNums]\n",
    "            \n",
    "    \n",
    "            trainAcc = 0.0\n",
    "            trainLoss = 0.0\n",
    "            for index,(X_train_var, y_train_var) in enumerate(train_iter):\n",
    "                \n",
    "                X_train_var = X_train_var.reshape(self.train_batch_size, -1).to(self.device)\n",
    "                \n",
    "                # 将 label 转为 one-hot编码，这里针对多分类和二分类的softmax形式。如果是二分类的sogmid，则注释\n",
    "                y_train_var = y_train_var.unsqueeze(1)\n",
    "                y_train_var = torch.zeros(len(X_train_var), verbose).scatter_(1, y_train_var, 1)\n",
    "                y_train_var = y_train_var.to(self.device)\n",
    "    \n",
    "                self.zero_grad()\n",
    "                print (X_train_var.shape)\n",
    "                scores = self.forward(X_train_var)\n",
    "                loss = loss_fn(scores.squeeze(), y_train_var)\n",
    "                trainAcc = trainAcc + self.getAUC(y_train_var, torch.sigmoid(scores).squeeze())\n",
    "                trainLoss = trainLoss + loss.data.item()\n",
    "                self.train()\n",
    "                torch.set_grad_enabled(True)\n",
    "                loss.backward()\n",
    "                optimizer.step()\n",
    "            if verbose == 2:\n",
    "                print ('train auc:', trainAcc / float(batchNumInEveryEpoch))\n",
    "                print ('train loss:', trainLoss / float(batchNumInEveryEpoch))\n",
    "\n",
    "            val_acc, val_loss = self.check_accuracy(self, val_loader, self.val_batch_size, loss_fn, \n",
    "                                                    True, verbose)   \n",
    "            if verbose == 2:\n",
    "                print ('val_auc:', val_acc)\n",
    "                print ('val_loss:', val_loss)\n",
    "        #     print ('val_acc:', val_acc, file=file, flush=True)\n",
    "            if val_acc > best_val_acc:\n",
    "#             if val_loss < best_val_loss:\n",
    "                best_val_acc = val_acc\n",
    "                best_val_loss = val_loss\n",
    "                bestEpoch = epoch\n",
    "                count = 0\n",
    "                if modelPath != None:\n",
    "                    torch.save(self.state_dict(), modelPath)\n",
    "            elif early_stopping_rounds != None:\n",
    "                count += 1\n",
    "                if count >= early_stopping_rounds:\n",
    "                    if verbose >= 1:\n",
    "                        print ('Stopping.')\n",
    "                        print ('Best Epoch:', bestEpoch)\n",
    "                        print ('Best Val Auc:', best_val_acc)\n",
    "                        print ('Best Val Loss:', best_val_loss)\n",
    "                    break\n",
    "    \n",
    "    def check_accuracy(self, model, val_loader, valBatchSize, loss_fn, \n",
    "                       isTrain, verbose, temperature=1):\n",
    "        if verbose == 2:\n",
    "            if isTrain:\n",
    "                print('*****Checking accuracy on validation set*****')\n",
    "        #         print('Checking accuracy on validation set', file=file, flush=True)\n",
    "            else:\n",
    "                print('Checking accuracy on test set') \n",
    "        #         print('Checking accuracy on test set', file=file, flush=True) \n",
    "        self.eval()\n",
    "        torch.set_grad_enabled(False)\n",
    "        \n",
    "        batchNum = len(val_loader)\n",
    "#         batchNum = X_val.shape[0] // valBatchSize \n",
    "#         if isTrain != True and X_val.shape[0] % valBatchSize != 0:\n",
    "#             batchNum += 1  \n",
    "        if verbose == 2:\n",
    "            print ('batchNum:', batchNum)\n",
    "             \n",
    "        valAcc = 0.0\n",
    "        valLoss = 0.0\n",
    "        for index, (tX_val_var, tY_val_var) in enumerate(val_loader): \n",
    "            tX_val_var = tX_val_var.reshape(self.val_batch_size, 1, -1).to(self.device)\n",
    "            \n",
    "            tY_val_var = tY_val_var.unsqueeze(1)\n",
    "            tY_val_var = torch.zeros(len(tX_val_var), verbose).scatter_(1, tY_val_var, 1)\n",
    "            tY_val_var = tY_val_var.to(self.device)\n",
    "            \n",
    "            scores = self.forward(tX_val_var)\n",
    "\n",
    "            if isTrain == True:\n",
    "                loss = loss_fn(scores.squeeze(), tY_val_var / temperature)\n",
    "                valAcc += self.getAUC(tY_val_var / temperature, torch.sigmoid(scores).squeeze())\n",
    "                valLoss = valLoss + loss.data.item()\n",
    "\n",
    "        if isTrain == True:\n",
    "            return valAcc / float(batchNum), valLoss / float(batchNum)\n",
    "    \n",
    "    def predict_proba(self, testDF, inputType='tensor', temperature=1):\n",
    "        self.eval()\n",
    "        torch.set_grad_enabled(False)\n",
    "        if inputType == 'tensor':\n",
    "            testDF = testDF.reshape(testDF.shape[0], 1, -1).to(self.device)\n",
    "            scores = self.forward(testDF) / temperature\n",
    "            return torch.sigmoid(scores).squeeze()\n",
    "        elif inputType == 'DataFrame':\n",
    "            testDF = testDF.reshape(testDF.shape[0], 1, -1).to(self.device)\n",
    "            return torch.sigmoid(self.forward(torch.tensor(np.array(testDF), dtype=torch.float32, device=device)) / temperature).squeeze()\n",
    "        torch.set_grad_enabled(True)\n",
    "    \n",
    "    def predict(self, testDF, inputType='tensor', threshold=0.5, temperature=1):\n",
    "        predict_proba = self.predict_proba(testDF, inputType, temperature).cpu().numpy().tolist()\n",
    "#         predict_lables = [1 if x >= threshold else 0 for x in predict_proba]\n",
    "        return predict_proba\n",
    "    \n",
    "    def getAUC(self, y_true, y_score):\n",
    "        return roc_auc_score(y_true.detach().cpu().numpy(), \n",
    "                             y_score.detach().cpu().numpy())    "
   ]
  },
  {
   "cell_type": "markdown",
   "metadata": {},
   "source": [
    "# 老版 ModelHandler"
   ]
  },
  {
   "cell_type": "code",
   "execution_count": null,
   "metadata": {
    "collapsed": true
   },
   "outputs": [],
   "source": [
    "class ModelHandler(nn.Module):\n",
    "    def __init__(self, params):\n",
    "        super(ModelHandler, self).__init__()\n",
    "#         self.bestStateDict = None\n",
    "        self.epochNums = params['epochNums']\n",
    "        self.batch_size = params['batch_size']\n",
    "        self.device = params['device']\n",
    "        self.dnn = params['model'].to(self.device)\n",
    "        \n",
    "        \n",
    "\n",
    "    def forword(self, features):\n",
    "        return self.dnn(features)\n",
    "\n",
    "#     def reset(self, m):\n",
    "#         if hasattr(m, 'reset_parameters'):\n",
    "#             torch.cuda.manual_seed(1)\n",
    "#             m.reset_parameters()\n",
    "\n",
    "    \n",
    "    def fit(self, X_train, y_train, loss_fn, optimizer, task, device, modelPath=None,\n",
    "            eval_set=None, early_stopping_rounds=None, valBatchSize=None, \n",
    "            verbose=0, temperature=1):\n",
    "        \n",
    "        if eval_set != None:\n",
    "            X_val, y_val = eval_set\n",
    "        if early_stopping_rounds != None:\n",
    "            # 用来计数多少epoch在验证集上的结果没有改进了\n",
    "            count = 0\n",
    "#         self.apply(self.reset)\n",
    "\n",
    "        batch_size = self.batch_size\n",
    "        trainDataNum = X_train[\"feature_idx\"].shape[0]\n",
    "        batchNumInEveryEpoch = trainDataNum // batch_size\n",
    "        epochNums = self.epochNums\n",
    "        best_val_acc = -1000000\n",
    "        best_val_loss = 1000000\n",
    "        if valBatchSize != None:\n",
    "            valBatchSize = valBatchSize\n",
    "        else:\n",
    "            valBatchSize = X_val[\"feature_idx\"].shape[0]\n",
    "        num = 0\n",
    "        for epoch in range(epochNums):\n",
    "            print ('epoch:', epoch)\n",
    "        #     print ('epoch:', epoch, file=file, flush=True)\n",
    "            # 设置成 training 模式\n",
    "            self.train()\n",
    "            # 设置自动微分\n",
    "            torch.set_grad_enabled(True)\n",
    "            \n",
    "#             randPermNums = torch.randperm(trainDataNum)\n",
    "#             X_train[\"feature_idx\"] = X_train[\"feature_idx\"][randPermNums]\n",
    "#             X_train[\"feature_values\"] = X_train[\"feature_values\"][randPermNums]\n",
    "#             y_train = y_train[randPermNums]  \n",
    "            \n",
    "            randPermNums = np.random.permutation(trainDataNum)\n",
    "            X_train[\"feature_idx\"] = X_train[\"feature_idx\"].iloc[randPermNums]\n",
    "            X_train[\"feature_values\"] = X_train[\"feature_values\"].iloc[randPermNums]\n",
    "            y_train = y_train[randPermNums]  \n",
    "\n",
    "\n",
    "            trainAcc = 0.0\n",
    "            trainLoss = 0.0\n",
    "            for t1 in range(batchNumInEveryEpoch):\n",
    "                X_train_var = {}\n",
    "                X_train_var[\"feature_idx\"] = X_train[\"feature_idx\"][t1 * batch_size:(t1 + 1) * batch_size]\n",
    "                X_train_var[\"feature_values\"] = X_train[\"feature_values\"][t1 * batch_size:(t1 + 1) * batch_size]\n",
    "                y_train_var = y_train[t1 * batch_size:(t1 + 1) * batch_size].to(self.device)\n",
    "                self.zero_grad()\n",
    "                scores = self.forword(X_train_var)\n",
    "                loss = loss_fn(scores.squeeze(), y_train_var)\n",
    "                trainAcc = trainAcc + self.getAUC(y_train_var, torch.sigmoid(scores).squeeze())\n",
    "                trainLoss = trainLoss + loss.data.item()\n",
    "                self.train()\n",
    "                torch.set_grad_enabled(True)\n",
    "                loss.backward()\n",
    "                optimizer.step()\n",
    "            if verbose == 2:\n",
    "                print ('train acc:', trainAcc / float(batchNumInEveryEpoch))\n",
    "                print ('train loss:', trainLoss / float(batchNumInEveryEpoch))\n",
    "\n",
    "            val_acc, val_loss = self.check_accuracy(self, X_val, y_val, valBatchSize, loss_fn, \n",
    "                                                    task, device, True, verbose)   \n",
    "            if verbose == 2:\n",
    "                print ('val_acc:', val_acc)\n",
    "                print ('val_loss:', val_loss)\n",
    "        #     print ('val_acc:', val_acc, file=file, flush=True)\n",
    "            if val_acc > best_val_acc:\n",
    "#             if val_loss < best_val_loss:\n",
    "                best_val_acc = val_acc\n",
    "                best_val_loss = val_loss\n",
    "                bestEpoch = epoch\n",
    "                count = 0\n",
    "                if modelPath != None:\n",
    "                    torch.save(self.state_dict(), modelPath)\n",
    "            elif early_stopping_rounds != None:\n",
    "                count += 1\n",
    "                if count >= early_stopping_rounds:\n",
    "                    if verbose >= 1:\n",
    "                        print ('Stopping.')\n",
    "                        print ('Best Epoch:', bestEpoch)\n",
    "                        print ('Best Val Acc:', best_val_acc)\n",
    "                        print ('Best Val Loss:', best_val_loss)\n",
    "                    break\n",
    "    \n",
    "    def check_accuracy(self, model, X_val, y_val, valBatchSize, loss_fn, \n",
    "                       task, device, isTrain, verbose, temperature=1):\n",
    "        if verbose == 2:\n",
    "            if isTrain:\n",
    "                print('*****Checking accuracy on validation set*****')\n",
    "        #         print('Checking accuracy on validation set', file=file, flush=True)\n",
    "            else:\n",
    "                print('Checking accuracy on test set') \n",
    "        #         print('Checking accuracy on test set', file=file, flush=True) \n",
    "        # 将模型设置成evaluation模式\n",
    "        self.eval()\n",
    "        torch.set_grad_enabled(False)\n",
    "        batchNum = X_val[\"feature_idx\"].shape[0] // valBatchSize \n",
    "        if isTrain != True and X_val[\"feature_idx\"].shape[0] % valBatchSize != 0:\n",
    "            batchNum += 1  \n",
    "        if verbose == 2:\n",
    "            print ('batchNum:', batchNum)\n",
    "        valAcc = 0.0\n",
    "        valLoss = 0.0\n",
    "        for t1 in range(batchNum): \n",
    "            if isTrain != True and t1 == batchNum - 1:\n",
    "                tX_val_var = X_val[t1 * valBatchSize:]\n",
    "                tY_val_var = y_val[t1 * valBatchSize:].to(self.device)\n",
    "            else:\n",
    "                tX_val_var = {}\n",
    "                tX_val_var[\"feature_idx\"] = (X_val[\"feature_idx\"][t1 * valBatchSize:(t1 + 1) * valBatchSize])\n",
    "                tX_val_var[\"feature_values\"] = (X_val[\"feature_values\"][t1 * valBatchSize:(t1 + 1) * valBatchSize])\n",
    "                tY_val_var = y_val[t1 * valBatchSize:(t1 + 1) * valBatchSize].to(self.device)\n",
    "            \n",
    "            scores = self.forword(tX_val_var)\n",
    "\n",
    "            if isTrain == True:\n",
    "                loss = loss_fn(scores.squeeze(), tY_val_var / temperature)\n",
    "                valAcc += self.getAUC(tY_val_var / temperature, torch.sigmoid(scores).squeeze())\n",
    "                valLoss = valLoss + loss.data.item()\n",
    "\n",
    "        if isTrain == True:\n",
    "            return valAcc / float(batchNum), valLoss / float(batchNum)\n",
    "    \n",
    "    def predict_proba(self, testDF, inputType='tensor', temperature=1):\n",
    "        self.eval()\n",
    "        torch.set_grad_enabled(False)\n",
    "        if inputType == 'tensor':\n",
    "            scores = self.forword(testDF) / temperature\n",
    "            return torch.sigmoid(scores).squeeze()\n",
    "        elif inputType == 'DataFrame':\n",
    "            return torch.sigmoid(self.forword(torch.tensor(np.array(testDF), dtype=torch.float32, device=device)) / temperature)\n",
    "        torch.set_grad_enabled(True)\n",
    "    \n",
    "    # 改进地方\n",
    "    def predict(self, testDF, inputType='tensor', temperature=1, threshold=0.5):\n",
    "        predict_proba = self.predict_proba(testDF, inputType, temperature).cpu().numpy().tolist()\n",
    "        return predict_proba\n",
    "    \n",
    "    def getAUC(self, y_true, y_score):\n",
    "        return roc_auc_score(y_true.detach().cpu().numpy(), \n",
    "                             y_score.detach().cpu().numpy())  "
   ]
  },
  {
   "cell_type": "markdown",
   "metadata": {},
   "source": [
    "# 训练验证"
   ]
  },
  {
   "cell_type": "code",
   "execution_count": null,
   "metadata": {},
   "outputs": [],
   "source": [
    "pretrained_embeddings = text_field.vocab.vectors\n",
    "\n",
    "model = Enet(pretrained_embeddings)\n",
    "\"\"\"\n",
    "将前面生成的词向量矩阵拷贝到模型的embedding层\n",
    "这样就自动的可以将输入的word index转为词向量\n",
    "\"\"\"\n",
    "# model.embedding.weight.data.copy_(text_field.vocab.vectors)\n",
    "# model.to(DEVICE)\n",
    "\n",
    "# 损失函数：\n",
    "# 二分类：二进制交叉熵损失 BCEWithLogitsLoss\n",
    "# 多分类：交叉熵函数 CrossEntropyLoss\n",
    "loss_fn = nn.BCEWithLogitsLoss()\n",
    "\n",
    "optimizer = optim.Adam(model.parameters())#,lr=0.000001)\n",
    "\n",
    "n_epoch = 20\n",
    "\n",
    "best_val_acc = 0\n",
    "\n",
    "for epoch in range(n_epoch):\n",
    "\n",
    "    for batch_idx, batch in enumerate(train_iter):\n",
    "        data = batch.text\n",
    "        target = batch.label\n",
    "        if data.shape[0]!=128:\n",
    "            break\n",
    "#         print(data.shape,target.shape)\n",
    "#         target = torch.sparse.torch.eye(5).index_select(dim=0, index=target.cpu().data)\n",
    "#         target = target.to(DEVICE)\n",
    "#         data = data.permute(1,0)\n",
    "        optimizer.zero_grad()\n",
    "\n",
    "        out = model(data)\n",
    "        # out:(128,2)\n",
    "        print(\"out shape:\",out.shape)\n",
    "        print(\"out squeeze shape:\", out.squeeze().shape)\n",
    "        \n",
    "        target = target.unsqueeze(1)\n",
    "        target = torch.zeros(128, 2).scatter_(1, target, 1)\n",
    "        loss = loss_fn(out, target)\n",
    "        \n",
    "        loss.backward()\n",
    "        optimizer.step()\n",
    "\n",
    "        if (batch_idx+1) %200 == 0:\n",
    "            _,y_pre = torch.max(out,-1)\n",
    "            acc = torch.mean((torch.tensor(y_pre == batch.label, dtype=torch.float)))\n",
    "            print('epoch: %d \\t batch_idx : %d \\t loss: %.4f \\t train acc: %.4f'\n",
    "                  %(epoch,batch_idx,loss,acc))\n",
    "    \n",
    "    val_accs = []\n",
    "    for batch_idx, batch in enumerate(dev_iter):\n",
    "        data = batch.text\n",
    "        target = batch.label\n",
    "#         target = torch.sparse.torch.eye(5).index_select(dim=0, index=target.cpu().data)\n",
    "#         target = target.to(DEVICE)\n",
    "#         data = data.permute(1,0)\n",
    "        out = model(data)\n",
    "        \n",
    "        _,y_pre = torch.max(out,-1)\n",
    "        acc = torch.mean((torch.tensor(y_pre == target,dtype=torch.float)))\n",
    "        val_accs.append(acc)\n",
    "    \n",
    "    acc = np.array(val_accs).mean()\n",
    "    if acc > best_val_acc:\n",
    "        print('val acc : %.4f > %.4f saving model'%(acc,best_val_acc))\n",
    "#         torch.save(model.state_dict(), 'params.pkl')\n",
    "        best_val_acc = acc\n",
    "    print('val acc: %.4f'%(acc))"
   ]
  },
  {
   "cell_type": "code",
   "execution_count": 20,
   "metadata": {},
   "outputs": [
    {
     "name": "stdout",
     "output_type": "stream",
     "text": [
      "************************* epoch: 0 *************************\n",
      "torch.Size([128, 40])\n"
     ]
    },
    {
     "ename": "NameError",
     "evalue": "name 'roc_auc_score' is not defined",
     "output_type": "error",
     "traceback": [
      "\u001b[0;31m---------------------------------------------------------------------------\u001b[0m",
      "\u001b[0;31mNameError\u001b[0m                                 Traceback (most recent call last)",
      "\u001b[0;32m<timed exec>\u001b[0m in \u001b[0;36m<module>\u001b[0;34m()\u001b[0m\n",
      "\u001b[0;32m<ipython-input-19-4ff55e21db92>\u001b[0m in \u001b[0;36mfit\u001b[0;34m(self, train_iter, loss_fn, optimizer, modelPath, dev_iter, early_stopping_rounds, verbose)\u001b[0m\n\u001b[1;32m     57\u001b[0m                 \u001b[0mscores\u001b[0m \u001b[0;34m=\u001b[0m \u001b[0mself\u001b[0m\u001b[0;34m.\u001b[0m\u001b[0mforward\u001b[0m\u001b[0;34m(\u001b[0m\u001b[0mX_train_var\u001b[0m\u001b[0;34m)\u001b[0m\u001b[0;34m\u001b[0m\u001b[0;34m\u001b[0m\u001b[0m\n\u001b[1;32m     58\u001b[0m                 \u001b[0mloss\u001b[0m \u001b[0;34m=\u001b[0m \u001b[0mloss_fn\u001b[0m\u001b[0;34m(\u001b[0m\u001b[0mscores\u001b[0m\u001b[0;34m.\u001b[0m\u001b[0msqueeze\u001b[0m\u001b[0;34m(\u001b[0m\u001b[0;34m)\u001b[0m\u001b[0;34m,\u001b[0m \u001b[0my_train_var\u001b[0m\u001b[0;34m)\u001b[0m\u001b[0;34m\u001b[0m\u001b[0;34m\u001b[0m\u001b[0m\n\u001b[0;32m---> 59\u001b[0;31m                 \u001b[0mtrainAcc\u001b[0m \u001b[0;34m=\u001b[0m \u001b[0mtrainAcc\u001b[0m \u001b[0;34m+\u001b[0m \u001b[0mself\u001b[0m\u001b[0;34m.\u001b[0m\u001b[0mgetAUC\u001b[0m\u001b[0;34m(\u001b[0m\u001b[0my_train_var\u001b[0m\u001b[0;34m,\u001b[0m \u001b[0mtorch\u001b[0m\u001b[0;34m.\u001b[0m\u001b[0msigmoid\u001b[0m\u001b[0;34m(\u001b[0m\u001b[0mscores\u001b[0m\u001b[0;34m)\u001b[0m\u001b[0;34m.\u001b[0m\u001b[0msqueeze\u001b[0m\u001b[0;34m(\u001b[0m\u001b[0;34m)\u001b[0m\u001b[0;34m)\u001b[0m\u001b[0;34m\u001b[0m\u001b[0;34m\u001b[0m\u001b[0m\n\u001b[0m\u001b[1;32m     60\u001b[0m                 \u001b[0mtrainLoss\u001b[0m \u001b[0;34m=\u001b[0m \u001b[0mtrainLoss\u001b[0m \u001b[0;34m+\u001b[0m \u001b[0mloss\u001b[0m\u001b[0;34m.\u001b[0m\u001b[0mdata\u001b[0m\u001b[0;34m.\u001b[0m\u001b[0mitem\u001b[0m\u001b[0;34m(\u001b[0m\u001b[0;34m)\u001b[0m\u001b[0;34m\u001b[0m\u001b[0;34m\u001b[0m\u001b[0m\n\u001b[1;32m     61\u001b[0m                 \u001b[0mself\u001b[0m\u001b[0;34m.\u001b[0m\u001b[0mtrain\u001b[0m\u001b[0;34m(\u001b[0m\u001b[0;34m)\u001b[0m\u001b[0;34m\u001b[0m\u001b[0;34m\u001b[0m\u001b[0m\n",
      "\u001b[0;32m<ipython-input-19-4ff55e21db92>\u001b[0m in \u001b[0;36mgetAUC\u001b[0;34m(self, y_true, y_score)\u001b[0m\n\u001b[1;32m    147\u001b[0m \u001b[0;34m\u001b[0m\u001b[0m\n\u001b[1;32m    148\u001b[0m     \u001b[0;32mdef\u001b[0m \u001b[0mgetAUC\u001b[0m\u001b[0;34m(\u001b[0m\u001b[0mself\u001b[0m\u001b[0;34m,\u001b[0m \u001b[0my_true\u001b[0m\u001b[0;34m,\u001b[0m \u001b[0my_score\u001b[0m\u001b[0;34m)\u001b[0m\u001b[0;34m:\u001b[0m\u001b[0;34m\u001b[0m\u001b[0;34m\u001b[0m\u001b[0m\n\u001b[0;32m--> 149\u001b[0;31m         return roc_auc_score(y_true.detach().cpu().numpy(), \n\u001b[0m\u001b[1;32m    150\u001b[0m                              y_score.detach().cpu().numpy())    \n",
      "\u001b[0;31mNameError\u001b[0m: name 'roc_auc_score' is not defined"
     ]
    }
   ],
   "source": [
    "%%time\n",
    "# seed_everything()\n",
    "\n",
    "train_batch_size, val_batch_size = 2**7, 2**7\n",
    "\n",
    "pretrained_embeddings = text_field.vocab.vectors\n",
    "model = Enet(pretrained_embeddings)\n",
    "\n",
    "\n",
    "modelHandlerParams = {}\n",
    "modelHandlerParams['epoch_num'] = 1000000\n",
    "modelHandlerParams['train_batch_size'] = train_batch_size\n",
    "modelHandlerParams['val_batch_size'] = val_batch_size\n",
    "modelHandlerParams['device'] = DEVICE\n",
    "\n",
    "modelHandlerParams['model'] = model\n",
    "modelHandler = ModelHandler(modelHandlerParams)\n",
    "\n",
    "# 二分类交叉熵\n",
    "loss_fn = nn.BCEWithLogitsLoss().to(DEVICE)\n",
    "# 调参地方，分别调整为0.1,0.01,0.001，最优为0.01\n",
    "optimizer = optim.Adam(model.parameters(), lr=0.01,\n",
    "                       weight_decay=0.00001) # lr sets the learning rate of the optimizer\n",
    "\n",
    "modelHandler.fit(train_iter=train_iter, dev_iter=dev_iter,loss_fn=loss_fn,optimizer=optimizer,\n",
    "                 early_stopping_rounds=10, verbose=2)"
   ]
  },
  {
   "cell_type": "code",
   "execution_count": null,
   "metadata": {
    "collapsed": true
   },
   "outputs": [],
   "source": []
  },
  {
   "cell_type": "code",
   "execution_count": null,
   "metadata": {
    "collapsed": true
   },
   "outputs": [],
   "source": []
  }
 ],
 "metadata": {
  "kernelspec": {
   "display_name": "Python 3",
   "language": "python",
   "name": "python3"
  },
  "language_info": {
   "codemirror_mode": {
    "name": "ipython",
    "version": 3
   },
   "file_extension": ".py",
   "mimetype": "text/x-python",
   "name": "python",
   "nbconvert_exporter": "python",
   "pygments_lexer": "ipython3",
   "version": "3.6.6+"
  },
  "toc": {
   "base_numbering": 1,
   "nav_menu": {},
   "number_sections": true,
   "sideBar": true,
   "skip_h1_title": false,
   "title_cell": "Table of Contents",
   "title_sidebar": "Contents",
   "toc_cell": false,
   "toc_position": {
    "height": "calc(100% - 180px)",
    "left": "10px",
    "top": "150px",
    "width": "372px"
   },
   "toc_section_display": true,
   "toc_window_display": true
  }
 },
 "nbformat": 4,
 "nbformat_minor": 2
}
