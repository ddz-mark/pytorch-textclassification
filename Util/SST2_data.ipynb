{
 "cells": [
  {
   "cell_type": "markdown",
   "metadata": {},
   "source": [
    "# 导库"
   ]
  },
  {
   "cell_type": "code",
   "execution_count": 1,
   "metadata": {},
   "outputs": [
    {
     "name": "stderr",
     "output_type": "stream",
     "text": [
      "/home/dudaizhong/PycharmProjects/gitlab/new_env/virtualenv_folder/lib/python3.6/importlib/_bootstrap.py:219: RuntimeWarning: numpy.dtype size changed, may indicate binary incompatibility. Expected 96, got 88\n",
      "  return f(*args, **kwds)\n"
     ]
    }
   ],
   "source": [
    "import torch\n",
    "import torch.optim as optim\n",
    "import torch.nn as nn\n",
    "import torch.nn.functional as F\n",
    "\n",
    "from torchtext import data\n",
    "from torchtext import datasets\n",
    "from torchtext import vocab\n",
    "\n",
    "from tqdm import tqdm\n",
    "\n",
    "import pandas as pd\n",
    "import numpy as np\n",
    "import random\n",
    "\n",
    "import os\n",
    "\n",
    "from sklearn.metrics import roc_auc_score\n",
    "\n",
    "# 导入自己的库\n",
    "from Util.utils import seed_everything,get_device\n"
   ]
  },
  {
   "cell_type": "code",
   "execution_count": 2,
   "metadata": {},
   "outputs": [
    {
     "name": "stdout",
     "output_type": "stream",
     "text": [
      "device is cpu, not recommend\n",
      "cpu\n"
     ]
    }
   ],
   "source": [
    "device, n_gpu = get_device()\n",
    "print(device)"
   ]
  },
  {
   "cell_type": "markdown",
   "metadata": {},
   "source": [
    "# 数据预处理"
   ]
  },
  {
   "cell_type": "code",
   "execution_count": 3,
   "metadata": {},
   "outputs": [
    {
     "name": "stdout",
     "output_type": "stream",
     "text": [
      "(67349, 2)\n",
      "(872, 2)\n",
      "(1821, 2)\n"
     ]
    }
   ],
   "source": [
    "BASE_PATH = \"/home/dudaizhong/Downloads/SST-2/\"\n",
    "train_pd = pd.read_csv(BASE_PATH+'train.tsv', sep='\\t')\n",
    "dev_pd = pd.read_csv(BASE_PATH + 'dev.tsv', sep='\\t')\n",
    "test_pd = pd.read_csv(BASE_PATH + 'test.tsv', sep='\\t')\n",
    "\n",
    "print(train_pd.shape)\n",
    "print(dev_pd.shape)\n",
    "print(test_pd.shape)"
   ]
  },
  {
   "cell_type": "markdown",
   "metadata": {},
   "source": [
    "## 定义 Field"
   ]
  },
  {
   "cell_type": "code",
   "execution_count": 4,
   "metadata": {
    "collapsed": true
   },
   "outputs": [],
   "source": [
    "# 1. 定义 Field\n",
    "\n",
    "text_field = data.Field(tokenize='spacy', lower=True, fix_length=40, batch_first=True)\n",
    "label_field = data.LabelField(dtype=torch.long)\n"
   ]
  },
  {
   "cell_type": "markdown",
   "metadata": {},
   "source": [
    "## 定义 DataSet"
   ]
  },
  {
   "cell_type": "code",
   "execution_count": 11,
   "metadata": {},
   "outputs": [
    {
     "name": "stdout",
     "output_type": "stream",
     "text": [
      "the size of train: 67349, dev:872, test:1821\n"
     ]
    }
   ],
   "source": [
    "# 2. 定义 DataSet\n",
    "\n",
    "train, dev = data.TabularDataset.splits(\n",
    "        path=BASE_PATH, train='train.tsv', validation='dev.tsv',format='tsv', skip_header=True,\n",
    "        fields=[('text', text_field), ('label', label_field)])\n",
    "\n",
    "# 这里需要注意单独处理的时候不能用 splits 方法。\n",
    "test = data.TabularDataset(BASE_PATH+'test.tsv', format='tsv', skip_header=True,\n",
    "        fields=[('index', label_field), ('text', text_field)])\n",
    "\n",
    "print(\"the size of train: {}, dev:{}, test:{}\".format(\n",
    "    len(train), len(dev), len(test)))\n"
   ]
  },
  {
   "cell_type": "code",
   "execution_count": 17,
   "metadata": {},
   "outputs": [
    {
     "name": "stdout",
     "output_type": "stream",
     "text": [
      "['contains', 'no', 'wit', ',', 'only', 'labored', 'gags'] 0\n",
      "['unflinchingly', 'bleak', 'and', 'desperate'] 0\n",
      "['this', 'film', \"'s\", 'relationship', 'to', 'actual', 'tension', 'is', 'the', 'same', 'as', 'what', 'christmas', '-', 'tree', 'flocking', 'in', 'a', 'spray', 'can', 'is', 'to', 'actual', 'snow', ':', 'a', 'poor', '--', 'if', 'durable', '--', 'imitation', '.']\n"
     ]
    }
   ],
   "source": [
    "# 查看 Example\n",
    "print(train[1].text, train[1].label)\n",
    "\n",
    "print(dev[1].text, dev[1].label)\n",
    "\n",
    "print(test[1].text)"
   ]
  },
  {
   "cell_type": "markdown",
   "metadata": {},
   "source": [
    "## 建立 Vocab"
   ]
  },
  {
   "cell_type": "code",
   "execution_count": 18,
   "metadata": {
    "collapsed": true
   },
   "outputs": [],
   "source": [
    "# 3. 建立 vocab，大小是text_field里面的词数量\n",
    "# vectors = vocab.Vectors(embedding_file, cache_dir)\n",
    "\n",
    "text_field.build_vocab(\n",
    "        train, dev, test, max_size=25000,\n",
    "        vectors='glove.6B.100d', unk_init=torch.Tensor.normal_)\n",
    "\n",
    "label_field.build_vocab(train, dev, test)"
   ]
  },
  {
   "cell_type": "code",
   "execution_count": 19,
   "metadata": {},
   "outputs": [
    {
     "name": "stdout",
     "output_type": "stream",
     "text": [
      "16292\n",
      "1821\n"
     ]
    }
   ],
   "source": [
    "len_vocab = len(text_field.vocab)\n",
    "print(len_vocab)\n",
    "\n",
    "print(len(label_field.vocab))\n",
    "# for step, batch in enumerate(tqdm(train_iter, desc=\"Iteration\")):\n",
    "#     print(batch.text, batch.label)\n",
    "    "
   ]
  },
  {
   "cell_type": "markdown",
   "metadata": {},
   "source": [
    "## 构造 Iterater"
   ]
  },
  {
   "cell_type": "code",
   "execution_count": 23,
   "metadata": {},
   "outputs": [
    {
     "name": "stdout",
     "output_type": "stream",
     "text": [
      "the size of train_iter: 527, dev_iter:7, test_iter:1\n"
     ]
    },
    {
     "ename": "AttributeError",
     "evalue": "'BucketIterator' object has no attribute 'shape'",
     "output_type": "error",
     "traceback": [
      "\u001b[0;31m---------------------------------------------------------------------------\u001b[0m",
      "\u001b[0;31mAttributeError\u001b[0m                            Traceback (most recent call last)",
      "\u001b[0;32m<ipython-input-23-25e92be4356a>\u001b[0m in \u001b[0;36m<module>\u001b[0;34m()\u001b[0m\n\u001b[1;32m     12\u001b[0m     len(train_iter), len(dev_iter), len(test_iter)))\n\u001b[1;32m     13\u001b[0m \u001b[0;34m\u001b[0m\u001b[0m\n\u001b[0;32m---> 14\u001b[0;31m \u001b[0mprint\u001b[0m\u001b[0;34m(\u001b[0m\u001b[0mtrain_iter\u001b[0m\u001b[0;34m.\u001b[0m\u001b[0mshape\u001b[0m\u001b[0;34m)\u001b[0m\u001b[0;34m\u001b[0m\u001b[0;34m\u001b[0m\u001b[0m\n\u001b[0m",
      "\u001b[0;31mAttributeError\u001b[0m: 'BucketIterator' object has no attribute 'shape'"
     ]
    }
   ],
   "source": [
    "# 4. 构造迭代器\n",
    "\n",
    "train_iter, dev_iter = data.BucketIterator.splits(\n",
    "        (train, dev), batch_sizes=(128, 128), sort_key=lambda x: len(x.text), \n",
    "        sort_within_batch=True, repeat=False, shuffle=True, device=device)\n",
    "\n",
    "# 同样单独处理的时候\n",
    "test_iter = data.Iterator(test, batch_size=len(test), train=False,\n",
    "                          sort=False, device=device)\n",
    "\n",
    "print(\"the size of train_iter: {}, dev_iter:{}, test_iter:{}\".format(\n",
    "    len(train_iter), len(dev_iter), len(test_iter)))\n",
    "\n"
   ]
  },
  {
   "cell_type": "code",
   "execution_count": 24,
   "metadata": {},
   "outputs": [
    {
     "name": "stdout",
     "output_type": "stream",
     "text": [
      "0 torch.Size([128, 40]) torch.Size([128])\n"
     ]
    }
   ],
   "source": [
    "# 查看 Iterater\n",
    "# seed_everything()\n",
    "for batch_idx, (X_train_var, y_train_var) in enumerate(train_iter):\n",
    "    print(batch_idx, X_train_var.shape, y_train_var.shape)\n",
    "    break\n"
   ]
  },
  {
   "cell_type": "markdown",
   "metadata": {},
   "source": [
    "# 函数定义"
   ]
  },
  {
   "cell_type": "code",
   "execution_count": 30,
   "metadata": {
    "collapsed": true
   },
   "outputs": [],
   "source": [
    "def load_sst2(path, text_field, label_field, batch_size, device):\n",
    "    \n",
    "    # 2. 定义 DataSet\n",
    "    train, dev = data.TabularDataset.splits(\n",
    "            path=path, train='train.tsv', validation='dev.tsv',format='tsv', skip_header=True,\n",
    "            fields=[('text', text_field), ('label', label_field)])\n",
    "\n",
    "    # 这里需要注意单独处理的时候不能用 splits 方法。\n",
    "    test = data.TabularDataset(BASE_PATH+'test.tsv', format='tsv', skip_header=True,\n",
    "            fields=[('index', label_field), ('text', text_field)])\n",
    "    print(\"the size of train: {}, dev:{}, test:{}\".format(len(train), len(dev), len(test)))\n",
    "    print(\"the result of dataset: \", train[0].text, train[0].label)\n",
    "    \n",
    "    # 3. 建立 vocab，大小是text_field里面的词数量\n",
    "    # vectors = vocab.Vectors(embedding_file, cache_dir)\n",
    "\n",
    "    text_field.build_vocab(\n",
    "            train, dev, test, max_size=25000,\n",
    "            vectors='glove.6B.100d', unk_init=torch.Tensor.normal_)\n",
    "\n",
    "    label_field.build_vocab(train, dev, test)\n",
    "    \n",
    "    # 4. 构造迭代器\n",
    "    train_iter, dev_iter = data.BucketIterator.splits(\n",
    "            (train, dev), batch_sizes=(batch_size, batch_size), sort_key=lambda x: len(x.text), \n",
    "            sort_within_batch=True, repeat=False, shuffle=True, device=device)\n",
    "\n",
    "    # 同样单独处理的时候\n",
    "    test_iter = data.Iterator(test, batch_size=len(test), train=False,\n",
    "                              sort=False, device=device)\n",
    "\n",
    "    print(\"the size of train_iter: {}, dev_iter:{}, test_iter:{}\".format(\n",
    "        len(train_iter), len(dev_iter), len(test_iter)))\n",
    "    for batch_idx, (X_train_var, y_train_var) in enumerate(train_iter):\n",
    "        print(\"the shape of train_x: {}, train_y:{}\".format(X_train_var.shape, y_train_var.shape))\n",
    "        break\n",
    "    \n",
    "    return train_iter, dev_iter, test_iter\n",
    "    "
   ]
  },
  {
   "cell_type": "code",
   "execution_count": 31,
   "metadata": {},
   "outputs": [
    {
     "name": "stdout",
     "output_type": "stream",
     "text": [
      "the size of train: 67349, dev:872, test:1821\n",
      "the result of dataset:  ['hide', 'new', 'secretions', 'from', 'the', 'parental', 'units'] 0\n",
      "the size of train_iter: 527, dev_iter:7, test_iter:1\n",
      "the shape of train_x: torch.Size([128, 40]), train_y:torch.Size([128])\n"
     ]
    }
   ],
   "source": [
    "# 加载 SST2 数据集\n",
    "batch_size = 128\n",
    "train_iter, dev_iter, test_iter = load_sst2(BASE_PATH, text_field, label_field, batch_size, device)\n"
   ]
  },
  {
   "cell_type": "code",
   "execution_count": null,
   "metadata": {
    "collapsed": true
   },
   "outputs": [],
   "source": []
  },
  {
   "cell_type": "code",
   "execution_count": null,
   "metadata": {
    "collapsed": true
   },
   "outputs": [],
   "source": []
  },
  {
   "cell_type": "code",
   "execution_count": null,
   "metadata": {
    "collapsed": true
   },
   "outputs": [],
   "source": []
  },
  {
   "cell_type": "code",
   "execution_count": null,
   "metadata": {
    "collapsed": true
   },
   "outputs": [],
   "source": []
  },
  {
   "cell_type": "code",
   "execution_count": null,
   "metadata": {
    "collapsed": true
   },
   "outputs": [],
   "source": []
  },
  {
   "cell_type": "code",
   "execution_count": null,
   "metadata": {
    "collapsed": true
   },
   "outputs": [],
   "source": []
  }
 ],
 "metadata": {
  "kernelspec": {
   "display_name": "Python 3",
   "language": "python",
   "name": "python3"
  },
  "language_info": {
   "codemirror_mode": {
    "name": "ipython",
    "version": 3
   },
   "file_extension": ".py",
   "mimetype": "text/x-python",
   "name": "python",
   "nbconvert_exporter": "python",
   "pygments_lexer": "ipython3",
   "version": "3.6.6+"
  },
  "toc": {
   "base_numbering": 1,
   "nav_menu": {},
   "number_sections": true,
   "sideBar": true,
   "skip_h1_title": false,
   "title_cell": "Table of Contents",
   "title_sidebar": "Contents",
   "toc_cell": false,
   "toc_position": {
    "height": "calc(100% - 180px)",
    "left": "10px",
    "top": "150px",
    "width": "372px"
   },
   "toc_section_display": true,
   "toc_window_display": true
  }
 },
 "nbformat": 4,
 "nbformat_minor": 2
}
