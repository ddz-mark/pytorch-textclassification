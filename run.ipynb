{
 "cells": [
  {
   "cell_type": "markdown",
   "metadata": {},
   "source": [
    "# 导库"
   ]
  },
  {
   "cell_type": "code",
   "execution_count": 1,
   "metadata": {
    "ExecuteTime": {
     "end_time": "2019-12-18T08:20:23.350123Z",
     "start_time": "2019-12-18T08:20:21.584018Z"
    }
   },
   "outputs": [],
   "source": [
    "import torch\n",
    "import torch.optim as optim\n",
    "import torch.nn as nn\n",
    "import torch.nn.functional as F\n",
    "\n",
    "from torchtext import data\n",
    "from torchtext import datasets\n",
    "from torchtext import vocab\n",
    "\n",
    "from tqdm import tqdm\n",
    "\n",
    "import pandas as pd\n",
    "import numpy as np\n",
    "import random\n",
    "\n",
    "import os\n",
    "\n",
    "from sklearn.metrics import roc_auc_score\n",
    "\n",
    "# 导入自己的库\n",
    "from Util.utils import get_device, seed_everything\n",
    "from Util.SST2_data import load_sst2\n",
    "from ModelHandler import *\n"
   ]
  },
  {
   "cell_type": "code",
   "execution_count": 2,
   "metadata": {
    "ExecuteTime": {
     "end_time": "2019-12-18T08:20:23.395094Z",
     "start_time": "2019-12-18T08:20:23.353779Z"
    }
   },
   "outputs": [
    {
     "name": "stdout",
     "output_type": "stream",
     "text": [
      "device is cuda, # cuda is:  4\n",
      "cuda:1 4\n"
     ]
    }
   ],
   "source": [
    "device_all, n_gpu=get_device()\n",
    "\n",
    "# 使用第一块 gpu\n",
    "device = device_all[1]\n",
    "print(device, n_gpu)"
   ]
  },
  {
   "cell_type": "code",
   "execution_count": 3,
   "metadata": {
    "ExecuteTime": {
     "end_time": "2019-12-18T08:20:23.419373Z",
     "start_time": "2019-12-18T08:20:23.398359Z"
    }
   },
   "outputs": [
    {
     "data": {
      "text/plain": [
       "3"
      ]
     },
     "execution_count": 3,
     "metadata": {},
     "output_type": "execute_result"
    }
   ],
   "source": [
    "# 设置随机种子\n",
    "seed_everything()\n",
    "random.randint(1,10)"
   ]
  },
  {
   "cell_type": "markdown",
   "metadata": {},
   "source": [
    "# 加载 SST2 数据"
   ]
  },
  {
   "cell_type": "code",
   "execution_count": 4,
   "metadata": {
    "ExecuteTime": {
     "end_time": "2019-12-18T08:20:25.464207Z",
     "start_time": "2019-12-18T08:20:23.422681Z"
    }
   },
   "outputs": [],
   "source": [
    "# SST2 数据准备\n",
    "\n",
    "text_field = data.Field(tokenize='spacy', lower=True, include_lengths=True,fix_length=40, batch_first=True)\n",
    "label_field = data.LabelField(dtype=torch.long)"
   ]
  },
  {
   "cell_type": "code",
   "execution_count": 5,
   "metadata": {
    "ExecuteTime": {
     "end_time": "2019-12-18T08:20:25.650036Z",
     "start_time": "2019-12-18T08:20:25.467237Z"
    }
   },
   "outputs": [
    {
     "name": "stdout",
     "output_type": "stream",
     "text": [
      "(67349, 2)\n",
      "(872, 2)\n",
      "(1821, 2)\n"
     ]
    }
   ],
   "source": [
    "BASE_PATH = \"sst2_data/\"\n",
    "train_pd = pd.read_csv(BASE_PATH+'train.tsv', sep='\\t')\n",
    "dev_pd = pd.read_csv(BASE_PATH + 'dev.tsv', sep='\\t')\n",
    "test_pd = pd.read_csv(BASE_PATH + 'test.tsv', sep='\\t')\n",
    "\n",
    "print(train_pd.shape)\n",
    "print(dev_pd.shape)\n",
    "print(test_pd.shape)"
   ]
  },
  {
   "cell_type": "code",
   "execution_count": 6,
   "metadata": {
    "ExecuteTime": {
     "end_time": "2019-12-18T08:20:38.602038Z",
     "start_time": "2019-12-18T08:20:25.653362Z"
    }
   },
   "outputs": [
    {
     "name": "stdout",
     "output_type": "stream",
     "text": [
      "the size of train: 67349, dev:872, test:1821\n",
      "the result of dataset:  ['hide', 'new', 'secretions', 'from', 'the', 'parental', 'units'] 0\n",
      "the size of train_iter: 527, dev_iter:7, test_iter:1\n"
     ]
    }
   ],
   "source": [
    "batch_size = 128\n",
    "embedding_file = '/media/HDD5/ddz/androidvuldetection/.vector_cache/glove.6B.100d.txt'\n",
    "cache_file = '/media/HDD5/ddz/androidvuldetection/.vector_cache/'\n",
    "train_iter, dev_iter, test_iter = load_sst2(BASE_PATH, text_field, label_field, batch_size, \n",
    "                                            embedding_file,cache_file)\n"
   ]
  },
  {
   "cell_type": "code",
   "execution_count": 7,
   "metadata": {
    "ExecuteTime": {
     "end_time": "2019-12-18T08:20:38.867353Z",
     "start_time": "2019-12-18T08:20:38.605408Z"
    }
   },
   "outputs": [
    {
     "name": "stdout",
     "output_type": "stream",
     "text": [
      "0 torch.Size([128, 40]) torch.Size([128])\n",
      "(tensor([[  32,   30, 3736,  ...,    1,    1,    1],\n",
      "        [  29,  437,    9,  ...,    1,    1,    1],\n",
      "        [   8, 1999,  215,  ...,    1,    1,    1],\n",
      "        ...,\n",
      "        [   2,   21,   10,  ...,    1,    1,    1],\n",
      "        [  11,   28,   15,  ...,    1,    1,    1],\n",
      "        [  92,   64, 8054,  ...,    1,    1,    1]]), tensor([7, 7, 7, 7, 7, 7, 7, 7, 7, 7, 7, 7, 7, 7, 7, 7, 7, 7, 7, 7, 7, 7, 7, 7,\n",
      "        7, 7, 7, 7, 7, 7, 7, 7, 7, 7, 7, 7, 7, 7, 7, 7, 7, 7, 7, 7, 7, 7, 7, 7,\n",
      "        7, 7, 7, 7, 7, 7, 7, 7, 7, 7, 7, 7, 7, 7, 7, 7, 7, 7, 7, 7, 7, 7, 7, 7,\n",
      "        7, 7, 7, 7, 7, 7, 7, 7, 7, 7, 7, 7, 7, 7, 7, 7, 7, 7, 7, 7, 7, 7, 7, 7,\n",
      "        7, 7, 7, 7, 7, 7, 7, 7, 7, 7, 7, 7, 7, 7, 7, 7, 7, 7, 7, 7, 7, 7, 7, 7,\n",
      "        7, 7, 7, 7, 7, 7, 7, 7]))\n"
     ]
    }
   ],
   "source": [
    "# 查看数据\n",
    "\n",
    "for batch_idx, (X_train_var, y_train_var) in enumerate(train_iter):\n",
    "    print(batch_idx, X_train_var[0].shape, y_train_var.shape)\n",
    "    print(X_train_var)\n",
    "    break"
   ]
  },
  {
   "cell_type": "markdown",
   "metadata": {},
   "source": [
    "# 网络结构"
   ]
  },
  {
   "cell_type": "code",
   "execution_count": null,
   "metadata": {
    "ExecuteTime": {
     "end_time": "2019-12-16T06:28:07.966095Z",
     "start_time": "2019-12-16T06:28:07.953311Z"
    }
   },
   "outputs": [],
   "source": [
    "# 1.与维度变换相关函数 view()，permute()，size(), torch.squeeze() / torch.unsqueeze()\n",
    "# 2.Embedding层加载预训练模型的方式：1）copy，2）from_pretrained。\n",
    "\n",
    "class Enet(nn.Module):\n",
    "    def __init__(self,pretrained_embeddings):\n",
    "        super(Enet, self).__init__()\n",
    "#         self.embedding = nn.Embedding(len_vocab,100)\n",
    "        self.embedding = nn.Embedding.from_pretrained(\n",
    "            pretrained_embeddings, freeze=False)\n",
    "        # LSTM 参数以及输入输出说明：\n",
    "        # 结构参数：LSTM(input_size, hidden_size, num_layers)\n",
    "        # input_size:输入的特征数量\n",
    "        # hidden_size:隐藏的特征数量\n",
    "        # num_layers:层数\n",
    "        self.lstm = nn.LSTM(100,64,3,batch_first=True)#,bidirectional=True)\n",
    "        self.linear = nn.Linear(64,2)\n",
    "        \n",
    "    def forward(self, x):\n",
    "        text,_ = x\n",
    "        batch_size,seq_num = text.shape\n",
    "#         print(x.shape) #(batch_size 128, sent_len 40)\n",
    "        vec = self.embedding(text)\n",
    "#         print(vec.shape) #(batch_size 128,sent_len 40,emb_dim 100)\n",
    "        out, (hn, cn) = self.lstm(vec)\n",
    "#         print(out.shape) #(batch_size 128,sent_len 40,64)\n",
    "        out = self.linear(out[:,-1,:])\n",
    "#         print(out.shape) #(batch_size 128,2)\n",
    "        out = F.softmax(out,-1)\n",
    "        return out\n",
    "    "
   ]
  },
  {
   "cell_type": "code",
   "execution_count": null,
   "metadata": {
    "ExecuteTime": {
     "end_time": "2019-12-16T06:28:17.621944Z",
     "start_time": "2019-12-16T06:28:07.969156Z"
    }
   },
   "outputs": [],
   "source": [
    "# 模型单独测试\n",
    "pretrained_embeddings = text_field.vocab.vectors\n",
    "net = Enet(pretrained_embeddings)\n",
    "for i in train_iter:\n",
    "    net.forward(i.text)\n",
    "    break\n",
    "\n",
    "\n",
    "# # 查看网络结构 input_size=(channels, H, W)\n",
    "# from torchsummary import summary\n",
    "# summary(net,input_size=(40,100))"
   ]
  },
  {
   "cell_type": "markdown",
   "metadata": {},
   "source": [
    "## TextCNN 模型"
   ]
  },
  {
   "cell_type": "code",
   "execution_count": null,
   "metadata": {
    "ExecuteTime": {
     "end_time": "2019-12-18T06:50:19.680192Z",
     "start_time": "2019-12-18T06:50:19.674232Z"
    }
   },
   "outputs": [],
   "source": [
    "from model.TextCNN import TextCNN\n"
   ]
  },
  {
   "cell_type": "code",
   "execution_count": null,
   "metadata": {
    "ExecuteTime": {
     "end_time": "2019-12-18T06:50:20.561292Z",
     "start_time": "2019-12-18T06:50:20.060294Z"
    }
   },
   "outputs": [],
   "source": [
    "# 模型单独测试\n",
    "pretrained_embeddings = text_field.vocab.vectors\n",
    "embedding_dim = 100\n",
    "output_dim = 2\n",
    "n_filters = 64 # 卷积核的个数\n",
    "filter_sizes=[2,3,4]\n",
    "dropout=0.7\n",
    "model = TextCNN(embedding_dim, n_filters, filter_sizes, output_dim, pretrained_embeddings,dropout)\n",
    "for i in train_iter:\n",
    "    model.forward(i.text)\n",
    "    break\n"
   ]
  },
  {
   "cell_type": "markdown",
   "metadata": {},
   "source": [
    "## TextRNN 模型"
   ]
  },
  {
   "cell_type": "code",
   "execution_count": null,
   "metadata": {
    "ExecuteTime": {
     "end_time": "2019-12-18T07:04:42.479312Z",
     "start_time": "2019-12-18T07:04:42.473543Z"
    }
   },
   "outputs": [],
   "source": [
    "from model.TextRNN import TextRNN\n"
   ]
  },
  {
   "cell_type": "code",
   "execution_count": null,
   "metadata": {
    "ExecuteTime": {
     "end_time": "2019-12-18T07:05:02.532762Z",
     "start_time": "2019-12-18T07:04:43.019604Z"
    }
   },
   "outputs": [],
   "source": [
    "# 模型单独测试\n",
    "pretrained_embeddings = text_field.vocab.vectors\n",
    "embedding_dim = 100\n",
    "output_dim = 2\n",
    "hidden_size = 64\n",
    "num_layers=5\n",
    "bidirectional = True\n",
    "dropout = 0.5\n",
    "model = TextRNN(embedding_dim,output_dim,hidden_size,num_layers,bidirectional,pretrained_embeddings,dropout)\n",
    "for i in train_iter:\n",
    "#     print(i.text, i.text.shape)\n",
    "    model.forward(i.text)\n",
    "    break\n"
   ]
  },
  {
   "cell_type": "markdown",
   "metadata": {},
   "source": [
    "## TextRNN_Attention 模型"
   ]
  },
  {
   "cell_type": "code",
   "execution_count": null,
   "metadata": {
    "ExecuteTime": {
     "end_time": "2019-12-18T07:17:31.005224Z",
     "start_time": "2019-12-18T07:17:30.998878Z"
    }
   },
   "outputs": [],
   "source": [
    "from model.TextRNN_Attention import TextRNN_Attention\n"
   ]
  },
  {
   "cell_type": "code",
   "execution_count": null,
   "metadata": {
    "ExecuteTime": {
     "end_time": "2019-12-18T07:17:36.478937Z",
     "start_time": "2019-12-18T07:17:31.008152Z"
    }
   },
   "outputs": [],
   "source": [
    "\n",
    "# 模型单独测试\n",
    "pretrained_embeddings = text_field.vocab.vectors\n",
    "embedding_dim = 100\n",
    "output_dim = 2\n",
    "hidden_size = 50\n",
    "num_layers=5\n",
    "bidirectional = True\n",
    "dropout=0.5\n",
    "model = TextRNN_Attention(embedding_dim,output_dim,hidden_size,num_layers,\n",
    "                          bidirectional,pretrained_embeddings, device,dropout).to(device)\n",
    "\n",
    "for i in train_iter:\n",
    "#     print(i.text, i.text.shape)\n",
    "    x = i.text\n",
    "    y = i.label\n",
    "    x = (j.to(device) for j in x)\n",
    "    model.forward(x)\n",
    "    \n",
    "    parm={}\n",
    "    for name,parameters in model.named_parameters():\n",
    "#         print(name,':',parameters.size())\n",
    "        parm[name]=parameters.detach().cpu().numpy()\n",
    "        if name == \"ws\":\n",
    "            print(name, parameters.detach().cpu().numpy())\n",
    "#     print(parm)\n",
    "    break\n"
   ]
  },
  {
   "cell_type": "markdown",
   "metadata": {},
   "source": [
    "## TextRCNN 模型"
   ]
  },
  {
   "cell_type": "code",
   "execution_count": null,
   "metadata": {
    "ExecuteTime": {
     "end_time": "2019-12-18T07:31:18.708034Z",
     "start_time": "2019-12-18T07:31:18.703050Z"
    }
   },
   "outputs": [],
   "source": [
    "from model.TextRCNN import TextRCNN\n"
   ]
  },
  {
   "cell_type": "code",
   "execution_count": null,
   "metadata": {
    "ExecuteTime": {
     "end_time": "2019-12-18T07:31:50.899008Z",
     "start_time": "2019-12-18T07:31:18.710807Z"
    }
   },
   "outputs": [],
   "source": [
    "\n",
    "# 模型单独测试\n",
    "pretrained_embeddings = text_field.vocab.vectors\n",
    "embedding_dim = 100\n",
    "output_dim = 2\n",
    "hidden_size = 64\n",
    "num_layers=5\n",
    "bidirectional = True\n",
    "dropout=0.5\n",
    "model = TextRCNN(embedding_dim,output_dim,hidden_size,num_layers,bidirectional,pretrained_embeddings,dropout)\n",
    "for i in train_iter:\n",
    "#     print(i.text, i.text.shape)\n",
    "    model.forward(i.text)\n",
    "    break"
   ]
  },
  {
   "cell_type": "markdown",
   "metadata": {},
   "source": [
    "## Transformer 模型"
   ]
  },
  {
   "cell_type": "code",
   "execution_count": 8,
   "metadata": {
    "ExecuteTime": {
     "end_time": "2019-12-18T08:20:38.881508Z",
     "start_time": "2019-12-18T08:20:38.871873Z"
    }
   },
   "outputs": [],
   "source": [
    "from model.Text_Transformer import Text_Transformer\n"
   ]
  },
  {
   "cell_type": "code",
   "execution_count": 9,
   "metadata": {
    "ExecuteTime": {
     "end_time": "2019-12-18T08:20:42.874147Z",
     "start_time": "2019-12-18T08:20:38.885572Z"
    }
   },
   "outputs": [],
   "source": [
    "# 模型单独测试\n",
    "pretrained_embeddings = text_field.vocab.vectors\n",
    "head = 8\n",
    "n_layer = 6\n",
    "emd_dim =100\n",
    "d_model = 512\n",
    "d_ff = 1024\n",
    "output_dim = 2\n",
    "dropout=0.1\n",
    "\n",
    "model = Text_Transformer(head,n_layer,emd_dim,d_model,d_ff,output_dim,dropout,pretrained_embeddings)\n",
    "for i in train_iter:\n",
    "#     print(i.text, i.text.shape)\n",
    "    model.forward(i.text)\n",
    "    break\n",
    "\n"
   ]
  },
  {
   "cell_type": "markdown",
   "metadata": {},
   "source": [
    "# 训练验证"
   ]
  },
  {
   "cell_type": "code",
   "execution_count": 10,
   "metadata": {
    "ExecuteTime": {
     "end_time": "2019-12-18T09:01:01.024532Z",
     "start_time": "2019-12-18T08:20:42.876463Z"
    },
    "scrolled": true
   },
   "outputs": [
    {
     "name": "stdout",
     "output_type": "stream",
     "text": [
      "************************* epoch: 0 *************************\n",
      "train auc: 0.7742723919702158\n",
      "train loss: 0.5673074571864655\n",
      "*****Checking accuracy on validation set*****\n",
      "batchNum: 7\n",
      "val_auc: 0.7527926278764164\n",
      "val_loss: 0.7208619969231742\n",
      "************************* epoch: 1 *************************\n",
      "train auc: 0.852260686439005\n",
      "train loss: 0.47837434926793065\n",
      "*****Checking accuracy on validation set*****\n",
      "batchNum: 7\n",
      "val_auc: 0.7293584061885429\n",
      "val_loss: 0.6211611543382917\n",
      "************************* epoch: 2 *************************\n",
      "train auc: 0.8800520734112616\n",
      "train loss: 0.43105642932981425\n",
      "*****Checking accuracy on validation set*****\n",
      "batchNum: 7\n",
      "val_auc: 0.77902163166687\n",
      "val_loss: 0.6573755059923444\n",
      "************************* epoch: 3 *************************\n",
      "train auc: 0.8916047769591671\n",
      "train loss: 0.41090026774940275\n",
      "*****Checking accuracy on validation set*****\n",
      "batchNum: 7\n",
      "val_auc: 0.772788585539259\n",
      "val_loss: 0.633748744215284\n",
      "************************* epoch: 4 *************************\n",
      "train auc: 0.8897589184555897\n",
      "train loss: 0.4122188151504781\n",
      "*****Checking accuracy on validation set*****\n",
      "batchNum: 7\n",
      "val_auc: 0.8169298163560831\n",
      "val_loss: 0.5298589978899274\n",
      "************************* epoch: 5 *************************\n",
      "train auc: 0.8904395005367978\n",
      "train loss: 0.4155851699821863\n",
      "*****Checking accuracy on validation set*****\n",
      "batchNum: 7\n",
      "val_auc: 0.7651130417880173\n",
      "val_loss: 0.5800617166927883\n",
      "************************* epoch: 6 *************************\n",
      "train auc: 0.9003380812173261\n",
      "train loss: 0.3943199854930845\n",
      "*****Checking accuracy on validation set*****\n",
      "batchNum: 7\n",
      "val_auc: 0.7993144432101389\n",
      "val_loss: 0.5694931830678668\n",
      "************************* epoch: 7 *************************\n",
      "train auc: 0.9032448435996134\n",
      "train loss: 0.3867175759468404\n",
      "*****Checking accuracy on validation set*****\n",
      "batchNum: 7\n",
      "val_auc: 0.76546485320649\n",
      "val_loss: 0.5881478914192745\n",
      "************************* epoch: 8 *************************\n",
      "train auc: 0.9091896636438487\n",
      "train loss: 0.37451730976747155\n",
      "*****Checking accuracy on validation set*****\n",
      "batchNum: 7\n",
      "val_auc: 0.8364506098792523\n",
      "val_loss: 0.4980074167251587\n",
      "************************* epoch: 9 *************************\n",
      "train auc: 0.9251920295902115\n",
      "train loss: 0.3442689722697242\n",
      "*****Checking accuracy on validation set*****\n",
      "batchNum: 7\n",
      "val_auc: 0.8182318191416893\n",
      "val_loss: 0.5314626608576093\n",
      "************************* epoch: 10 *************************\n",
      "train auc: 0.9300220423425082\n",
      "train loss: 0.3319410478424076\n",
      "*****Checking accuracy on validation set*****\n",
      "batchNum: 7\n",
      "val_auc: 0.8112548137393525\n",
      "val_loss: 0.5445299105984824\n",
      "************************* epoch: 11 *************************\n",
      "train auc: 0.9270200487850128\n",
      "train loss: 0.3409158392920666\n",
      "*****Checking accuracy on validation set*****\n",
      "batchNum: 7\n",
      "val_auc: 0.8111168689418585\n",
      "val_loss: 0.5391335827963692\n",
      "************************* epoch: 12 *************************\n",
      "train auc: 0.9020364598638139\n",
      "train loss: 0.4034997441680427\n",
      "*****Checking accuracy on validation set*****\n",
      "batchNum: 7\n",
      "val_auc: 0.807306419339861\n",
      "val_loss: 0.542425240789141\n",
      "************************* epoch: 13 *************************\n",
      "train auc: 0.9080032308936715\n",
      "train loss: 0.3891202519299636\n",
      "*****Checking accuracy on validation set*****\n",
      "batchNum: 7\n",
      "val_auc: 0.8206893433310544\n",
      "val_loss: 0.5497968452317374\n",
      "************************* epoch: 14 *************************\n",
      "train auc: 0.9196234556264977\n",
      "train loss: 0.3645100702992879\n",
      "*****Checking accuracy on validation set*****\n",
      "batchNum: 7\n",
      "val_auc: 0.8401303018561151\n",
      "val_loss: 0.5228379879678998\n",
      "************************* epoch: 15 *************************\n",
      "train auc: 0.9267471827892545\n",
      "train loss: 0.3426733555332307\n",
      "*****Checking accuracy on validation set*****\n",
      "batchNum: 7\n",
      "val_auc: 0.8289863850957131\n",
      "val_loss: 0.5156262218952179\n",
      "************************* epoch: 16 *************************\n",
      "train auc: 0.9357096214424123\n",
      "train loss: 0.3250697150515424\n",
      "*****Checking accuracy on validation set*****\n",
      "batchNum: 7\n",
      "val_auc: 0.825061622330095\n",
      "val_loss: 0.5347663291863033\n",
      "************************* epoch: 17 *************************\n",
      "train auc: 0.9394709284292829\n",
      "train loss: 0.31556928613041113\n",
      "*****Checking accuracy on validation set*****\n",
      "batchNum: 7\n",
      "val_auc: 0.8279857061743635\n",
      "val_loss: 0.5812100470066071\n",
      "************************* epoch: 18 *************************\n",
      "train auc: 0.9374232404860837\n",
      "train loss: 0.32096626848491366\n",
      "*****Checking accuracy on validation set*****\n",
      "batchNum: 7\n",
      "val_auc: 0.8357845190467803\n",
      "val_loss: 0.515180630343301\n",
      "************************* epoch: 19 *************************\n",
      "train auc: 0.935855707342374\n",
      "train loss: 0.3262839167461902\n",
      "*****Checking accuracy on validation set*****\n",
      "batchNum: 7\n",
      "val_auc: 0.8315373782844687\n",
      "val_loss: 0.5317208341189793\n",
      "************************* epoch: 20 *************************\n",
      "train auc: 0.9384081642048768\n",
      "train loss: 0.31929370667608686\n",
      "*****Checking accuracy on validation set*****\n",
      "batchNum: 7\n",
      "val_auc: 0.8477195506379998\n",
      "val_loss: 0.5304845699242183\n",
      "************************* epoch: 21 *************************\n",
      "train auc: 0.9377820548173637\n",
      "train loss: 0.318358350439135\n",
      "*****Checking accuracy on validation set*****\n",
      "batchNum: 7\n",
      "val_auc: 0.8330177717680064\n",
      "val_loss: 0.5427204242774418\n",
      "************************* epoch: 22 *************************\n",
      "train auc: 0.9340818730045338\n",
      "train loss: 0.32839778286229954\n",
      "*****Checking accuracy on validation set*****\n",
      "batchNum: 7\n",
      "val_auc: 0.8362247504376795\n",
      "val_loss: 0.5952170661517552\n",
      "************************* epoch: 23 *************************\n",
      "train auc: 0.9275908784062593\n",
      "train loss: 0.3443272284583756\n",
      "*****Checking accuracy on validation set*****\n",
      "batchNum: 7\n",
      "val_auc: 0.8124010091109009\n",
      "val_loss: 0.5915712118148804\n",
      "************************* epoch: 24 *************************\n",
      "train auc: 0.9256806510064927\n",
      "train loss: 0.35015310607214356\n",
      "*****Checking accuracy on validation set*****\n",
      "batchNum: 7\n",
      "val_auc: 0.8144674294703164\n",
      "val_loss: 0.56908489550863\n",
      "************************* epoch: 25 *************************\n",
      "train auc: 0.9278774732493661\n",
      "train loss: 0.34423173997954126\n",
      "*****Checking accuracy on validation set*****\n",
      "batchNum: 7\n",
      "val_auc: 0.824796095658516\n",
      "val_loss: 0.5534404601369586\n",
      "************************* epoch: 26 *************************\n",
      "train auc: 0.9268584508887727\n",
      "train loss: 0.3445309004702197\n",
      "*****Checking accuracy on validation set*****\n",
      "batchNum: 7\n",
      "val_auc: 0.8317833571459509\n",
      "val_loss: 0.5179358678204673\n",
      "************************* epoch: 27 *************************\n",
      "train auc: 0.9331404715071365\n",
      "train loss: 0.3302091391195156\n",
      "*****Checking accuracy on validation set*****\n",
      "batchNum: 7\n",
      "val_auc: 0.839895143316385\n",
      "val_loss: 0.5165572890213558\n",
      "************************* epoch: 28 *************************\n",
      "train auc: 0.9350307953082896\n",
      "train loss: 0.3239663006628261\n",
      "*****Checking accuracy on validation set*****\n",
      "batchNum: 7\n",
      "val_auc: 0.8546088930189263\n",
      "val_loss: 0.5338688705648694\n",
      "************************* epoch: 29 *************************\n",
      "train auc: 0.9232000755255221\n",
      "train loss: 0.35747526371162347\n",
      "*****Checking accuracy on validation set*****\n",
      "batchNum: 7\n",
      "val_auc: 0.8369366558711164\n",
      "val_loss: 0.5971492230892181\n",
      "************************* epoch: 30 *************************\n",
      "train auc: 0.9255391733397179\n",
      "train loss: 0.3464469031149794\n",
      "*****Checking accuracy on validation set*****\n",
      "batchNum: 7\n",
      "val_auc: 0.8257068397966061\n",
      "val_loss: 0.5557841062545776\n",
      "************************* epoch: 31 *************************\n",
      "train auc: 0.9298654917946279\n",
      "train loss: 0.3400292155921346\n",
      "*****Checking accuracy on validation set*****\n",
      "batchNum: 7\n",
      "val_auc: 0.8394928946841373\n",
      "val_loss: 0.5223683757441384\n",
      "************************* epoch: 32 *************************\n",
      "train auc: 0.9314792484189577\n",
      "train loss: 0.3344027611799892\n",
      "*****Checking accuracy on validation set*****\n",
      "batchNum: 7\n",
      "val_auc: 0.8274679968815516\n",
      "val_loss: 0.5568530304091317\n",
      "************************* epoch: 33 *************************\n",
      "train auc: 0.9172209904553584\n",
      "train loss: 0.36996661171854334\n",
      "*****Checking accuracy on validation set*****\n",
      "batchNum: 7\n",
      "val_auc: 0.7895673073438173\n",
      "val_loss: 0.6061099937983921\n",
      "************************* epoch: 34 *************************\n",
      "train auc: 0.8915947092265801\n",
      "train loss: 0.41930031253332434\n",
      "*****Checking accuracy on validation set*****\n",
      "batchNum: 7\n"
     ]
    },
    {
     "name": "stdout",
     "output_type": "stream",
     "text": [
      "val_auc: 0.7729971240086112\n",
      "val_loss: 0.6194078751972744\n",
      "************************* epoch: 35 *************************\n",
      "train auc: 0.8969894502654823\n",
      "train loss: 0.41730954250642427\n",
      "*****Checking accuracy on validation set*****\n",
      "batchNum: 7\n",
      "val_auc: 0.7817560945283406\n",
      "val_loss: 0.6836584040096828\n",
      "************************* epoch: 36 *************************\n",
      "train auc: 0.9150062400304086\n",
      "train loss: 0.3751266386070107\n",
      "*****Checking accuracy on validation set*****\n",
      "batchNum: 7\n",
      "val_auc: 0.8243873882844632\n",
      "val_loss: 0.5413956429277148\n",
      "************************* epoch: 37 *************************\n",
      "train auc: 0.924150334410145\n",
      "train loss: 0.3559653623280534\n",
      "*****Checking accuracy on validation set*****\n",
      "batchNum: 7\n",
      "val_auc: 0.8196669151707902\n",
      "val_loss: 0.6070291016783033\n",
      "************************* epoch: 38 *************************\n",
      "train auc: 0.9227525906097996\n",
      "train loss: 0.35629059812601876\n",
      "*****Checking accuracy on validation set*****\n",
      "batchNum: 7\n",
      "val_auc: 0.8224789882211915\n",
      "val_loss: 0.5208652700696673\n",
      "Stopping.\n",
      "Best Epoch: 28\n",
      "Best Val Auc: 0.8546088930189263\n",
      "Best Val Loss: 0.5338688705648694\n",
      "CPU times: user 35min 32s, sys: 4min 9s, total: 39min 41s\n",
      "Wall time: 40min 18s\n"
     ]
    }
   ],
   "source": [
    "%%time\n",
    "# seed_everything()\n",
    "\n",
    "train_batch_size, val_batch_size = 2**7, 2**7\n",
    "\n",
    "pretrained_embeddings = text_field.vocab.vectors\n",
    "\n",
    "modelHandlerParams = {}\n",
    "modelHandlerParams['epoch_num'] = 1000000\n",
    "modelHandlerParams['train_batch_size'] = train_batch_size\n",
    "modelHandlerParams['val_batch_size'] = val_batch_size\n",
    "modelHandlerParams['device'] = device\n",
    "\n",
    "modelHandlerParams['model'] = model\n",
    "modelHandler = ModelHandler(modelHandlerParams)\n",
    "\n",
    "model.to(device)\n",
    "# 二分类交叉熵\n",
    "loss_fn = nn.BCEWithLogitsLoss().to(device)\n",
    "# 调参地方，分别调整为0.1,0.01,0.001，最优为0.01\n",
    "optimizer = optim.Adam(model.parameters(), lr=0.01,\n",
    "                       weight_decay=0.0001) # lr sets the learning rate of the optimizer\n",
    "\n",
    "modelHandler.fit(train_iter=train_iter, val_iter=dev_iter,loss_fn=loss_fn,optimizer=optimizer,\n",
    "                 early_stopping_rounds=10, verbose=2)"
   ]
  },
  {
   "cell_type": "code",
   "execution_count": null,
   "metadata": {},
   "outputs": [],
   "source": []
  },
  {
   "cell_type": "code",
   "execution_count": null,
   "metadata": {},
   "outputs": [],
   "source": []
  },
  {
   "cell_type": "code",
   "execution_count": null,
   "metadata": {},
   "outputs": [],
   "source": []
  },
  {
   "cell_type": "code",
   "execution_count": null,
   "metadata": {},
   "outputs": [],
   "source": []
  },
  {
   "cell_type": "code",
   "execution_count": null,
   "metadata": {},
   "outputs": [],
   "source": []
  }
 ],
 "metadata": {
  "kernelspec": {
   "display_name": "Python 3",
   "language": "python",
   "name": "python3"
  },
  "language_info": {
   "codemirror_mode": {
    "name": "ipython",
    "version": 3
   },
   "file_extension": ".py",
   "mimetype": "text/x-python",
   "name": "python",
   "nbconvert_exporter": "python",
   "pygments_lexer": "ipython3",
   "version": "3.5.2"
  },
  "toc": {
   "base_numbering": 1,
   "nav_menu": {},
   "number_sections": true,
   "sideBar": true,
   "skip_h1_title": false,
   "title_cell": "Table of Contents",
   "title_sidebar": "Contents",
   "toc_cell": false,
   "toc_position": {
    "height": "calc(100% - 180px)",
    "left": "10px",
    "top": "150px",
    "width": "240px"
   },
   "toc_section_display": true,
   "toc_window_display": true
  }
 },
 "nbformat": 4,
 "nbformat_minor": 2
}
